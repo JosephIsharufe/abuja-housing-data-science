{
 "cells": [
  {
   "cell_type": "markdown",
   "metadata": {},
   "source": []
  },
  {
   "cell_type": "code",
   "execution_count": 6,
   "metadata": {},
   "outputs": [],
   "source": [
    "import pandas as pd\n",
    "import numpy as np\n",
    "\n",
    "#pandas configurations\n",
    "\n"
   ]
  },
  {
   "cell_type": "code",
   "execution_count": 7,
   "metadata": {},
   "outputs": [
    {
     "name": "stdout",
     "output_type": "stream",
     "text": [
      "<class 'pandas.core.frame.DataFrame'>\n",
      "RangeIndex: 5619 entries, 0 to 5618\n",
      "Data columns (total 12 columns):\n",
      " #   Column         Non-Null Count  Dtype  \n",
      "---  ------         --------------  -----  \n",
      " 0   Price          5619 non-null   int64  \n",
      " 1   Location       5619 non-null   object \n",
      " 2   Property Ref   5619 non-null   int64  \n",
      " 3   Date Added     5619 non-null   object \n",
      " 4   Last Updated   5619 non-null   object \n",
      " 5   market Status  5619 non-null   object \n",
      " 6   Type           5619 non-null   object \n",
      " 7   Price_cat      5619 non-null   object \n",
      " 8   Bedroom        5619 non-null   float64\n",
      " 9   Bathroom       5619 non-null   float64\n",
      " 10  Toilets        5619 non-null   float64\n",
      " 11  Town           5619 non-null   object \n",
      "dtypes: float64(3), int64(2), object(7)\n",
      "memory usage: 526.9+ KB\n"
     ]
    }
   ],
   "source": [
    "df=pd.read_csv('C:/Users/ishar/Documents/datascience/House.csv')\n",
    "df.info()"
   ]
  },
  {
   "cell_type": "code",
   "execution_count": 8,
   "metadata": {},
   "outputs": [
    {
     "data": {
      "text/html": [
       "<div>\n",
       "<style scoped>\n",
       "    .dataframe tbody tr th:only-of-type {\n",
       "        vertical-align: middle;\n",
       "    }\n",
       "\n",
       "    .dataframe tbody tr th {\n",
       "        vertical-align: top;\n",
       "    }\n",
       "\n",
       "    .dataframe thead th {\n",
       "        text-align: right;\n",
       "    }\n",
       "</style>\n",
       "<table border=\"1\" class=\"dataframe\">\n",
       "  <thead>\n",
       "    <tr style=\"text-align: right;\">\n",
       "      <th></th>\n",
       "      <th>Price</th>\n",
       "      <th>Location</th>\n",
       "      <th>Property Ref</th>\n",
       "      <th>Date Added</th>\n",
       "      <th>Last Updated</th>\n",
       "      <th>market Status</th>\n",
       "      <th>Type</th>\n",
       "      <th>Price_cat</th>\n",
       "      <th>Bedroom</th>\n",
       "      <th>Bathroom</th>\n",
       "      <th>Toilets</th>\n",
       "      <th>Town</th>\n",
       "    </tr>\n",
       "  </thead>\n",
       "  <tbody>\n",
       "    <tr>\n",
       "      <th>0</th>\n",
       "      <td>65000000</td>\n",
       "      <td>By American International School, Durumi, Abuja</td>\n",
       "      <td>2260848</td>\n",
       "      <td>2024-05-17</td>\n",
       "      <td>2024-05-17</td>\n",
       "      <td>Available</td>\n",
       "      <td>Block of Flats</td>\n",
       "      <td>Millions</td>\n",
       "      <td>2.0</td>\n",
       "      <td>2.0</td>\n",
       "      <td>3.0</td>\n",
       "      <td>Durumi</td>\n",
       "    </tr>\n",
       "    <tr>\n",
       "      <th>1</th>\n",
       "      <td>140000000</td>\n",
       "      <td>Karsana Gwarimpa Extension In An Estate, Gwari...</td>\n",
       "      <td>2260786</td>\n",
       "      <td>2024-05-17</td>\n",
       "      <td>2024-05-17</td>\n",
       "      <td>Available</td>\n",
       "      <td>Detached Duplex</td>\n",
       "      <td>Millions</td>\n",
       "      <td>4.0</td>\n",
       "      <td>4.0</td>\n",
       "      <td>5.0</td>\n",
       "      <td>Gwarimpa</td>\n",
       "    </tr>\n",
       "    <tr>\n",
       "      <th>2</th>\n",
       "      <td>63500000</td>\n",
       "      <td>Lugbe District, Abuja</td>\n",
       "      <td>2260743</td>\n",
       "      <td>2024-05-17</td>\n",
       "      <td>2024-05-17</td>\n",
       "      <td>Available</td>\n",
       "      <td>House</td>\n",
       "      <td>Millions</td>\n",
       "      <td>5.0</td>\n",
       "      <td>6.0</td>\n",
       "      <td>6.0</td>\n",
       "      <td>Lugbe District</td>\n",
       "    </tr>\n",
       "    <tr>\n",
       "      <th>3</th>\n",
       "      <td>220000000</td>\n",
       "      <td>Behind Suncourt Hotel, Kado, Abuja</td>\n",
       "      <td>2161046</td>\n",
       "      <td>2024-03-14</td>\n",
       "      <td>2024-05-02</td>\n",
       "      <td>Available</td>\n",
       "      <td>Detached Duplex</td>\n",
       "      <td>Millions</td>\n",
       "      <td>5.0</td>\n",
       "      <td>5.0</td>\n",
       "      <td>6.0</td>\n",
       "      <td>Kado</td>\n",
       "    </tr>\n",
       "    <tr>\n",
       "      <th>4</th>\n",
       "      <td>77500000</td>\n",
       "      <td>Opposite Nicon Junction, Katampe, Abuja</td>\n",
       "      <td>2162917</td>\n",
       "      <td>2024-03-15</td>\n",
       "      <td>2024-05-12</td>\n",
       "      <td>Available</td>\n",
       "      <td>Terraced Duplex</td>\n",
       "      <td>Millions</td>\n",
       "      <td>5.0</td>\n",
       "      <td>5.0</td>\n",
       "      <td>6.0</td>\n",
       "      <td>Katampe</td>\n",
       "    </tr>\n",
       "  </tbody>\n",
       "</table>\n",
       "</div>"
      ],
      "text/plain": [
       "       Price                                           Location  Property Ref  \\\n",
       "0   65000000    By American International School, Durumi, Abuja       2260848   \n",
       "1  140000000  Karsana Gwarimpa Extension In An Estate, Gwari...       2260786   \n",
       "2   63500000                              Lugbe District, Abuja       2260743   \n",
       "3  220000000                 Behind Suncourt Hotel, Kado, Abuja       2161046   \n",
       "4   77500000            Opposite Nicon Junction, Katampe, Abuja       2162917   \n",
       "\n",
       "   Date Added Last Updated market Status             Type Price_cat  Bedroom  \\\n",
       "0  2024-05-17   2024-05-17     Available   Block of Flats  Millions      2.0   \n",
       "1  2024-05-17   2024-05-17     Available  Detached Duplex  Millions      4.0   \n",
       "2  2024-05-17   2024-05-17     Available            House  Millions      5.0   \n",
       "3  2024-03-14   2024-05-02     Available  Detached Duplex  Millions      5.0   \n",
       "4  2024-03-15   2024-05-12     Available  Terraced Duplex  Millions      5.0   \n",
       "\n",
       "   Bathroom  Toilets            Town  \n",
       "0       2.0      3.0          Durumi  \n",
       "1       4.0      5.0        Gwarimpa  \n",
       "2       6.0      6.0  Lugbe District  \n",
       "3       5.0      6.0            Kado  \n",
       "4       5.0      6.0         Katampe  "
      ]
     },
     "execution_count": 8,
     "metadata": {},
     "output_type": "execute_result"
    }
   ],
   "source": [
    "df.head()"
   ]
  },
  {
   "cell_type": "code",
   "execution_count": null,
   "metadata": {},
   "outputs": [],
   "source": [
    "df.columns\n"
   ]
  },
  {
   "cell_type": "code",
   "execution_count": 17,
   "metadata": {},
   "outputs": [],
   "source": [
    "df_unness=df[['Unnamed: 13','Unnamed: 14','Unnamed: 15','Unnamed: 16']]\n",
    "df.drop('Unnamed: 16',axis=1,inplace=True)"
   ]
  },
  {
   "cell_type": "code",
   "execution_count": 18,
   "metadata": {},
   "outputs": [
    {
     "name": "stdout",
     "output_type": "stream",
     "text": [
      "<class 'pandas.core.frame.DataFrame'>\n",
      "RangeIndex: 6866 entries, 0 to 6865\n",
      "Data columns (total 16 columns):\n",
      " #   Column                     Non-Null Count  Dtype \n",
      "---  ------                     --------------  ----- \n",
      " 0   2,500,000,000              6866 non-null   object\n",
      " 1   Maitama District, Abuja    6866 non-null   object\n",
      " 2   Property Ref: 2173814      6866 non-null   object\n",
      " 3   Added On: 22 Mar 2024      6866 non-null   object\n",
      " 4   Last Updated: 23 Apr 2024  6866 non-null   object\n",
      " 5   Market Status: Available   6866 non-null   object\n",
      " 6   Type: Detached Duplex      6866 non-null   object\n",
      " 7   Bedrooms: 7                6844 non-null   object\n",
      " 8   Bathrooms: 8               6212 non-null   object\n",
      " 9   Toilets: 8                 5834 non-null   object\n",
      " 10  Parking Spaces: 10         4413 non-null   object\n",
      " 11  Total Area: 1,700 sqm      2487 non-null   object\n",
      " 12  Covered Area: 1,700 sqm    1651 non-null   object\n",
      " 13  Unnamed: 13                301 non-null    object\n",
      " 14  Unnamed: 14                20 non-null     object\n",
      " 15  Unnamed: 15                3 non-null      object\n",
      "dtypes: object(16)\n",
      "memory usage: 858.4+ KB\n"
     ]
    }
   ],
   "source": [
    "#df.drop(columns=['Unnamed: 13','Unnamed: 14','Unnamed: 15','Unnamed: 16'],axis=1, inplace=True)\n",
    "df.info()"
   ]
  },
  {
   "cell_type": "code",
   "execution_count": 19,
   "metadata": {},
   "outputs": [
    {
     "data": {
      "text/plain": [
       "Unnamed: 15\n",
       "Service Charge: ₦150,000 per annum    1\n",
       "Service Charge: ₦200,000 per annum    1\n",
       "Service Charge: ₦250,000 per annum    1\n",
       "Name: count, dtype: int64"
      ]
     },
     "execution_count": 19,
     "metadata": {},
     "output_type": "execute_result"
    }
   ],
   "source": [
    "df['Unnamed: 15'].value_counts()"
   ]
  },
  {
   "cell_type": "code",
   "execution_count": null,
   "metadata": {},
   "outputs": [],
   "source": [
    "df_unness[~df_unness.isna()]"
   ]
  },
  {
   "cell_type": "code",
   "execution_count": 21,
   "metadata": {},
   "outputs": [
    {
     "data": {
      "text/plain": [
       "array(['Bedrooms: 5', 'Bedrooms: 2', 'Bedrooms: 4', 'Bedrooms: 3',\n",
       "       'Bedrooms: 6', 'Bedrooms: 9', 'Bedrooms: 1', 'Bedrooms: 8',\n",
       "       'Bedrooms: 7', 'Bedrooms: 11', 'Bedrooms: 37', 'Bedrooms: 40',\n",
       "       'Bedrooms: 10', 'Total Area: 1,000 sqm', 'Covered Area: 1,200 sqm',\n",
       "       nan, 'Bedrooms: 12', 'Bedrooms: 14', 'Bathrooms: 18',\n",
       "       'Bedrooms: 16', 'Bedrooms: 54', 'Bedrooms: 28', 'Bedrooms: 36',\n",
       "       'Bedrooms: 17', 'Bathrooms: 2', 'Bedrooms: 64', 'Bedrooms: 13',\n",
       "       'Bedrooms: 20', 'Bedrooms: 15', 'Bedrooms: 46', 'Bedrooms: 48',\n",
       "       'Bedrooms: 287', 'Bedrooms: 32', 'Total Area: 400 sqm',\n",
       "       'Covered Area: 1,000 sqm', 'Bedrooms: 18', 'Bedrooms: 38',\n",
       "       'Bedrooms: 39', 'Bedrooms: 33', 'Servicing: Serviced',\n",
       "       'Bedrooms: 21', 'Bedrooms: 60', 'Bathrooms: 6', 'Bedrooms: 25',\n",
       "       'Bedrooms: 26', 'Total Area: 1,723 sqm', 'Bedrooms: 44',\n",
       "       'Bedrooms: 50', 'Bedrooms: 23', 'Bedrooms: 24', 'Bedrooms: 65',\n",
       "       'Bedrooms: 42', 'Bedrooms: 56', 'Total Area: 1,652 sqm',\n",
       "       'Parking Spaces: 10'], dtype=object)"
      ]
     },
     "execution_count": 21,
     "metadata": {},
     "output_type": "execute_result"
    }
   ],
   "source": [
    "df['Bedrooms: 7'].unique()"
   ]
  },
  {
   "cell_type": "code",
   "execution_count": 22,
   "metadata": {},
   "outputs": [
    {
     "data": {
      "text/plain": [
       "array([nan, 'Bathrooms: 2', 'Toilets: 6', 'Bathrooms: 4', 'Bathrooms: 6',\n",
       "       'Bathrooms: 5', 'Bathrooms: 8', 'Bathrooms: 3', 'Toilets: 4',\n",
       "       'Bathrooms: 10', 'Bathrooms: 1', 'Toilets: 5', 'Toilets: 7',\n",
       "       'Bathrooms: 7', 'Bathrooms: 9', 'Furnishing: Furnished',\n",
       "       'Total Area: 1,000 sqm', 'Bathrooms: 37', 'Bathrooms: 12',\n",
       "       'Toilets: 2', 'Bathrooms: 30', 'Toilets: 8', 'Toilets: 3',\n",
       "       'Bathrooms: 18', 'Toilets: 10', 'Bathrooms: 22',\n",
       "       'Total Area: 500 sqm', 'Bathrooms: 11', 'Total Area: 950 sqm',\n",
       "       'Total Area: 2,000 sqm', 'Toilets: 9', 'Toilets: 24',\n",
       "       'Total Area: 973 sqm', 'Bathrooms: 16', 'Bathrooms: 72',\n",
       "       'Bathrooms: 28', 'Bathrooms: 19', 'Total Area: 3,200 sqm',\n",
       "       'Total Area: 750 sqm', 'Bathrooms: 14', 'Total Area: 1,500 sqm',\n",
       "       'Bathrooms: 64', 'Bathrooms: 13', 'Total Area: 1,134 sqm',\n",
       "       'Bathrooms: 20', 'Bathrooms: 17', 'Servicing: Serviced',\n",
       "       'Bathrooms: 24', 'Bathrooms: 46', 'Bathrooms: 48', 'Bathrooms: 40',\n",
       "       'Bathrooms: 287', 'Bathrooms: 32', 'Bathrooms: 55',\n",
       "       'Bathrooms: 70', 'Total Area: 250 sqm', 'Total Area: 780 sqm',\n",
       "       'Total Area: 650 sqm', 'Total Area: 1,800 sqm',\n",
       "       'Parking Spaces: 10', 'Toilets: 50', 'Toilets: 18',\n",
       "       'Total Area: 580 sqm', 'Bathrooms: 39', 'Total Area: 4,000 sqm',\n",
       "       'Total Area: 1,700 sqm', 'Total Area: 1,050 sqm',\n",
       "       'Total Area: 5,179 sqm', 'Total Area: 800 sqm',\n",
       "       'Total Area: 5,000 sqm', 'Bathrooms: 23', 'Total Area: 1,200 sqm',\n",
       "       'Total Area: 1,400 sqm', 'Parking Spaces: 400',\n",
       "       'Total Area: 2,619 sqm', 'Bathrooms: 60', 'Total Area: 1,300 sqm',\n",
       "       'Toilets: 35', 'Bathrooms: 25', 'Bathrooms: 26', 'Toilets: 28',\n",
       "       'Bathrooms: 44', 'Total Area: 8,000 sqm', 'Bathrooms: 50',\n",
       "       'Covered Area: 5,600 sqm', 'Bathrooms: 93',\n",
       "       'Covered Area: 624 sqm'], dtype=object)"
      ]
     },
     "execution_count": 22,
     "metadata": {},
     "output_type": "execute_result"
    }
   ],
   "source": [
    "df['Bathrooms: 8'].unique()"
   ]
  },
  {
   "cell_type": "code",
   "execution_count": 23,
   "metadata": {},
   "outputs": [
    {
     "data": {
      "text/plain": [
       "array([nan, 'Covered Area: 450 sqm', 'Covered Area: 700 sqm',\n",
       "       'Covered Area: 2,300 sqm', 'Covered Area: 200 sqm',\n",
       "       'Covered Area: 600 sqm', 'Covered Area: 280 sqm',\n",
       "       'Covered Area: 1,200 sqm', 'Servicing: Serviced',\n",
       "       'Covered Area: 320 sqm', 'Covered Area: 400 sqm',\n",
       "       'Covered Area: 750 sqm', 'Covered Area: 50 sqm',\n",
       "       'Covered Area: 650 sqm', 'Covered Area: 800 sqm',\n",
       "       'Covered Area: 300 sqm', 'Service Charge: ₦200,000 per annum',\n",
       "       'Covered Area: 1,800 sqm', 'Covered Area: 1,832 sqm',\n",
       "       'Covered Area: 1,000 sqm', 'Covered Area: 500 sqm',\n",
       "       'Covered Area: 2,000 sqm', 'Covered Area: 2,500 sqm',\n",
       "       'Covered Area: 1,500 sqm', 'Covered Area: 520 sqm',\n",
       "       'Covered Area: 1,900 sqm', 'Covered Area: 390 sqm',\n",
       "       'Covered Area: 480 sqm', 'Covered Area: 350 sqm',\n",
       "       'Covered Area: 380 sqm', 'Covered Area: 1,400 sqm',\n",
       "       'Covered Area: 3,000 sqm', 'Covered Area: 250 sqm',\n",
       "       'Covered Area: 9,000 sqm', 'Covered Area: 850 sqm',\n",
       "       'Covered Area: 550 sqm', 'Covered Area: 180 sqm',\n",
       "       'Covered Area: 23 sqm', 'Covered Area: 162 sqm',\n",
       "       'Covered Area: 370 sqm', 'Covered Area: 1,300 sqm',\n",
       "       'Covered Area: 720 sqm', 'Covered Area: 620 sqm',\n",
       "       'Covered Area: 5,200 sqm', 'Covered Area: 580 sqm',\n",
       "       'Covered Area: 5,000 sqm', 'Covered Area: 6,000 sqm',\n",
       "       'Covered Area: 3,600 sqm', 'Covered Area: 24,000 sqm',\n",
       "       'Covered Area: 220 sqm', 'Covered Area: 270 sqm',\n",
       "       'Covered Area: 290 sqm', 'Covered Area: 5 sqm',\n",
       "       'Covered Area: 430 sqm', 'Covered Area: 330 sqm',\n",
       "       'Service Charge: ₦500,000 per annum', 'Covered Area: 420 sqm',\n",
       "       'Covered Area: 900 sqm', 'Covered Area: 4,500 sqm',\n",
       "       'Covered Area: 1,100 sqm', 'Covered Area: 2,200 sqm',\n",
       "       'Covered Area: 1,600 sqm', 'Covered Area: 27,000 sqm',\n",
       "       'Covered Area: 4,000 sqm'], dtype=object)"
      ]
     },
     "execution_count": 23,
     "metadata": {},
     "output_type": "execute_result"
    }
   ],
   "source": [
    "df['Unnamed: 13'].unique()"
   ]
  },
  {
   "cell_type": "code",
   "execution_count": 24,
   "metadata": {},
   "outputs": [
    {
     "data": {
      "text/plain": [
       "array([nan, 'Servicing: Serviced', 'Service Charge: ₦300 per day',\n",
       "       'Service Charge: ₦500,000', 'Service Charge: ₦300,000 per annum',\n",
       "       'Service Charge: ₦1,500,000 per annum',\n",
       "       'Service Charge: ₦130,000,000',\n",
       "       'Service Charge: ₦150,000 per annum',\n",
       "       'Service Charge: ₦300 per annum',\n",
       "       'Service Charge: ₦200,000 per annum', 'Service Charge: ₦100,000'],\n",
       "      dtype=object)"
      ]
     },
     "execution_count": 24,
     "metadata": {},
     "output_type": "execute_result"
    }
   ],
   "source": [
    "df['Unnamed: 14'].unique()"
   ]
  },
  {
   "cell_type": "code",
   "execution_count": 25,
   "metadata": {},
   "outputs": [
    {
     "data": {
      "text/plain": [
       "array([nan, 'Service Charge: ₦150,000 per annum',\n",
       "       'Service Charge: ₦200,000 per annum',\n",
       "       'Service Charge: ₦250,000 per annum'], dtype=object)"
      ]
     },
     "execution_count": 25,
     "metadata": {},
     "output_type": "execute_result"
    }
   ],
   "source": [
    "df['Unnamed: 15'].unique()"
   ]
  },
  {
   "cell_type": "code",
   "execution_count": 26,
   "metadata": {},
   "outputs": [],
   "source": [
    "def move_data(df,source,target,condition_col,pattern):\n",
    "    for index, row in df.iterrows():\n",
    "        if pd.isnull(row[target]) and pd.notnull(row[source]) and pattern in row[condition_col]:\n",
    "            df.at[index,target] = row[source]\n",
    "            df.at[index,source] = None\n",
    "    return df"
   ]
  },
  {
   "cell_type": "code",
   "execution_count": 27,
   "metadata": {},
   "outputs": [
    {
     "data": {
      "text/plain": [
       "Index(['2,500,000,000', 'Maitama District, Abuja', 'Property Ref: 2173814',\n",
       "       'Added On: 22 Mar 2024', 'Last Updated: 23 Apr 2024',\n",
       "       'Market Status: Available', 'Type: Detached Duplex', 'Bedrooms: 7',\n",
       "       'Bathrooms: 8', 'Toilets: 8', 'Parking Spaces: 10',\n",
       "       'Total Area: 1,700 sqm', 'Covered Area: 1,700 sqm', 'Unnamed: 13',\n",
       "       'Unnamed: 14', 'Unnamed: 15'],\n",
       "      dtype='object')"
      ]
     },
     "execution_count": 27,
     "metadata": {},
     "output_type": "execute_result"
    }
   ],
   "source": [
    "df.columns"
   ]
  },
  {
   "cell_type": "code",
   "execution_count": 71,
   "metadata": {},
   "outputs": [
    {
     "name": "stdout",
     "output_type": "stream",
     "text": [
      "<class 'pandas.core.frame.DataFrame'>\n",
      "RangeIndex: 6866 entries, 0 to 6865\n",
      "Data columns (total 12 columns):\n",
      " #   Column          Non-Null Count  Dtype  \n",
      "---  ------          --------------  -----  \n",
      " 0   price           6866 non-null   int64  \n",
      " 1   address         6866 non-null   object \n",
      " 2   property ref    6866 non-null   object \n",
      " 3   lsited on       6866 non-null   object \n",
      " 4   last updated    6866 non-null   object \n",
      " 5   market status   6866 non-null   object \n",
      " 6   type            6866 non-null   object \n",
      " 7   bedrooms        6832 non-null   object \n",
      " 8   bathrooms       5743 non-null   object \n",
      " 9   toilets         6101 non-null   object \n",
      " 10  parking spaces  4036 non-null   object \n",
      " 11  new             0 non-null      float64\n",
      "dtypes: float64(1), int64(1), object(10)\n",
      "memory usage: 643.8+ KB\n"
     ]
    }
   ],
   "source": [
    "df['new']=np.nan\n",
    "df.info()"
   ]
  },
  {
   "cell_type": "code",
   "execution_count": 73,
   "metadata": {},
   "outputs": [],
   "source": [
    "df['new']=df['new'].astype(object)"
   ]
  },
  {
   "cell_type": "code",
   "execution_count": 76,
   "metadata": {},
   "outputs": [],
   "source": [
    "\n",
    "a='Bedrooms: 7'\n",
    "b='Bathrooms: 8'\n",
    "c='Toilets: 8'\n",
    "d='Parking Spaces: 10'\n",
    "e='Total Area: 1,700 sqm'\n",
    "f='Covered Area: 1,700 sqm'\n",
    "g='Unnamed: 13'\n",
    "h='Unnamed: 14'\n",
    "i='Unnamed: 15'\n",
    "j='new'"
   ]
  },
  {
   "cell_type": "code",
   "execution_count": null,
   "metadata": {},
   "outputs": [],
   "source": []
  },
  {
   "cell_type": "code",
   "execution_count": 77,
   "metadata": {},
   "outputs": [
    {
     "ename": "KeyError",
     "evalue": "'Bedrooms: 7'",
     "output_type": "error",
     "traceback": [
      "\u001b[1;31m---------------------------------------------------------------------------\u001b[0m",
      "\u001b[1;31mKeyError\u001b[0m                                  Traceback (most recent call last)",
      "File \u001b[1;32mc:\\Users\\ishar\\AppData\\Local\\Programs\\Python\\Python312\\Lib\\site-packages\\pandas\\core\\indexes\\base.py:3805\u001b[0m, in \u001b[0;36mIndex.get_loc\u001b[1;34m(self, key)\u001b[0m\n\u001b[0;32m   3804\u001b[0m \u001b[38;5;28;01mtry\u001b[39;00m:\n\u001b[1;32m-> 3805\u001b[0m     \u001b[38;5;28;01mreturn\u001b[39;00m \u001b[38;5;28;43mself\u001b[39;49m\u001b[38;5;241;43m.\u001b[39;49m\u001b[43m_engine\u001b[49m\u001b[38;5;241;43m.\u001b[39;49m\u001b[43mget_loc\u001b[49m\u001b[43m(\u001b[49m\u001b[43mcasted_key\u001b[49m\u001b[43m)\u001b[49m\n\u001b[0;32m   3806\u001b[0m \u001b[38;5;28;01mexcept\u001b[39;00m \u001b[38;5;167;01mKeyError\u001b[39;00m \u001b[38;5;28;01mas\u001b[39;00m err:\n",
      "File \u001b[1;32mindex.pyx:167\u001b[0m, in \u001b[0;36mpandas._libs.index.IndexEngine.get_loc\u001b[1;34m()\u001b[0m\n",
      "File \u001b[1;32mindex.pyx:196\u001b[0m, in \u001b[0;36mpandas._libs.index.IndexEngine.get_loc\u001b[1;34m()\u001b[0m\n",
      "File \u001b[1;32mpandas\\\\_libs\\\\hashtable_class_helper.pxi:7081\u001b[0m, in \u001b[0;36mpandas._libs.hashtable.PyObjectHashTable.get_item\u001b[1;34m()\u001b[0m\n",
      "File \u001b[1;32mpandas\\\\_libs\\\\hashtable_class_helper.pxi:7089\u001b[0m, in \u001b[0;36mpandas._libs.hashtable.PyObjectHashTable.get_item\u001b[1;34m()\u001b[0m\n",
      "\u001b[1;31mKeyError\u001b[0m: 'Bedrooms: 7'",
      "\nThe above exception was the direct cause of the following exception:\n",
      "\u001b[1;31mKeyError\u001b[0m                                  Traceback (most recent call last)",
      "Cell \u001b[1;32mIn[77], line 2\u001b[0m\n\u001b[0;32m      1\u001b[0m z\u001b[38;5;241m=\u001b[39m\u001b[38;5;124m'\u001b[39m\u001b[38;5;124mFurnis\u001b[39m\u001b[38;5;124m'\u001b[39m\n\u001b[1;32m----> 2\u001b[0m df \u001b[38;5;241m=\u001b[39m \u001b[43mmove_data\u001b[49m\u001b[43m(\u001b[49m\u001b[43mdf\u001b[49m\u001b[43m,\u001b[49m\u001b[43m \u001b[49m\u001b[43msource\u001b[49m\u001b[38;5;241;43m=\u001b[39;49m\u001b[43ma\u001b[49m\u001b[43m,\u001b[49m\u001b[43m \u001b[49m\u001b[43mtarget\u001b[49m\u001b[38;5;241;43m=\u001b[39;49m\u001b[43mj\u001b[49m\u001b[43m,\u001b[49m\u001b[43m \u001b[49m\u001b[43mcondition_col\u001b[49m\u001b[38;5;241;43m=\u001b[39;49m\u001b[43ma\u001b[49m\u001b[43m,\u001b[49m\u001b[43m \u001b[49m\u001b[43mpattern\u001b[49m\u001b[38;5;241;43m=\u001b[39;49m\u001b[43mz\u001b[49m\u001b[43m)\u001b[49m\n\u001b[0;32m      3\u001b[0m df \u001b[38;5;241m=\u001b[39m move_data(df, source\u001b[38;5;241m=\u001b[39mb, target\u001b[38;5;241m=\u001b[39mj, condition_col\u001b[38;5;241m=\u001b[39mb, pattern\u001b[38;5;241m=\u001b[39mz)\n\u001b[0;32m      4\u001b[0m df \u001b[38;5;241m=\u001b[39m move_data(df, source\u001b[38;5;241m=\u001b[39mc, target\u001b[38;5;241m=\u001b[39mj, condition_col\u001b[38;5;241m=\u001b[39mc, pattern\u001b[38;5;241m=\u001b[39mz)\n",
      "Cell \u001b[1;32mIn[26], line 3\u001b[0m, in \u001b[0;36mmove_data\u001b[1;34m(df, source, target, condition_col, pattern)\u001b[0m\n\u001b[0;32m      1\u001b[0m \u001b[38;5;28;01mdef\u001b[39;00m \u001b[38;5;21mmove_data\u001b[39m(df,source,target,condition_col,pattern):\n\u001b[0;32m      2\u001b[0m     \u001b[38;5;28;01mfor\u001b[39;00m index, row \u001b[38;5;129;01min\u001b[39;00m df\u001b[38;5;241m.\u001b[39miterrows():\n\u001b[1;32m----> 3\u001b[0m         \u001b[38;5;28;01mif\u001b[39;00m pd\u001b[38;5;241m.\u001b[39misnull(row[target]) \u001b[38;5;129;01mand\u001b[39;00m pd\u001b[38;5;241m.\u001b[39mnotnull(\u001b[43mrow\u001b[49m\u001b[43m[\u001b[49m\u001b[43msource\u001b[49m\u001b[43m]\u001b[49m) \u001b[38;5;129;01mand\u001b[39;00m pattern \u001b[38;5;129;01min\u001b[39;00m row[condition_col]:\n\u001b[0;32m      4\u001b[0m             df\u001b[38;5;241m.\u001b[39mat[index,target] \u001b[38;5;241m=\u001b[39m row[source]\n\u001b[0;32m      5\u001b[0m             df\u001b[38;5;241m.\u001b[39mat[index,source] \u001b[38;5;241m=\u001b[39m \u001b[38;5;28;01mNone\u001b[39;00m\n",
      "File \u001b[1;32mc:\\Users\\ishar\\AppData\\Local\\Programs\\Python\\Python312\\Lib\\site-packages\\pandas\\core\\series.py:1121\u001b[0m, in \u001b[0;36mSeries.__getitem__\u001b[1;34m(self, key)\u001b[0m\n\u001b[0;32m   1118\u001b[0m     \u001b[38;5;28;01mreturn\u001b[39;00m \u001b[38;5;28mself\u001b[39m\u001b[38;5;241m.\u001b[39m_values[key]\n\u001b[0;32m   1120\u001b[0m \u001b[38;5;28;01melif\u001b[39;00m key_is_scalar:\n\u001b[1;32m-> 1121\u001b[0m     \u001b[38;5;28;01mreturn\u001b[39;00m \u001b[38;5;28;43mself\u001b[39;49m\u001b[38;5;241;43m.\u001b[39;49m\u001b[43m_get_value\u001b[49m\u001b[43m(\u001b[49m\u001b[43mkey\u001b[49m\u001b[43m)\u001b[49m\n\u001b[0;32m   1123\u001b[0m \u001b[38;5;66;03m# Convert generator to list before going through hashable part\u001b[39;00m\n\u001b[0;32m   1124\u001b[0m \u001b[38;5;66;03m# (We will iterate through the generator there to check for slices)\u001b[39;00m\n\u001b[0;32m   1125\u001b[0m \u001b[38;5;28;01mif\u001b[39;00m is_iterator(key):\n",
      "File \u001b[1;32mc:\\Users\\ishar\\AppData\\Local\\Programs\\Python\\Python312\\Lib\\site-packages\\pandas\\core\\series.py:1237\u001b[0m, in \u001b[0;36mSeries._get_value\u001b[1;34m(self, label, takeable)\u001b[0m\n\u001b[0;32m   1234\u001b[0m     \u001b[38;5;28;01mreturn\u001b[39;00m \u001b[38;5;28mself\u001b[39m\u001b[38;5;241m.\u001b[39m_values[label]\n\u001b[0;32m   1236\u001b[0m \u001b[38;5;66;03m# Similar to Index.get_value, but we do not fall back to positional\u001b[39;00m\n\u001b[1;32m-> 1237\u001b[0m loc \u001b[38;5;241m=\u001b[39m \u001b[38;5;28;43mself\u001b[39;49m\u001b[38;5;241;43m.\u001b[39;49m\u001b[43mindex\u001b[49m\u001b[38;5;241;43m.\u001b[39;49m\u001b[43mget_loc\u001b[49m\u001b[43m(\u001b[49m\u001b[43mlabel\u001b[49m\u001b[43m)\u001b[49m\n\u001b[0;32m   1239\u001b[0m \u001b[38;5;28;01mif\u001b[39;00m is_integer(loc):\n\u001b[0;32m   1240\u001b[0m     \u001b[38;5;28;01mreturn\u001b[39;00m \u001b[38;5;28mself\u001b[39m\u001b[38;5;241m.\u001b[39m_values[loc]\n",
      "File \u001b[1;32mc:\\Users\\ishar\\AppData\\Local\\Programs\\Python\\Python312\\Lib\\site-packages\\pandas\\core\\indexes\\base.py:3812\u001b[0m, in \u001b[0;36mIndex.get_loc\u001b[1;34m(self, key)\u001b[0m\n\u001b[0;32m   3807\u001b[0m     \u001b[38;5;28;01mif\u001b[39;00m \u001b[38;5;28misinstance\u001b[39m(casted_key, \u001b[38;5;28mslice\u001b[39m) \u001b[38;5;129;01mor\u001b[39;00m (\n\u001b[0;32m   3808\u001b[0m         \u001b[38;5;28misinstance\u001b[39m(casted_key, abc\u001b[38;5;241m.\u001b[39mIterable)\n\u001b[0;32m   3809\u001b[0m         \u001b[38;5;129;01mand\u001b[39;00m \u001b[38;5;28many\u001b[39m(\u001b[38;5;28misinstance\u001b[39m(x, \u001b[38;5;28mslice\u001b[39m) \u001b[38;5;28;01mfor\u001b[39;00m x \u001b[38;5;129;01min\u001b[39;00m casted_key)\n\u001b[0;32m   3810\u001b[0m     ):\n\u001b[0;32m   3811\u001b[0m         \u001b[38;5;28;01mraise\u001b[39;00m InvalidIndexError(key)\n\u001b[1;32m-> 3812\u001b[0m     \u001b[38;5;28;01mraise\u001b[39;00m \u001b[38;5;167;01mKeyError\u001b[39;00m(key) \u001b[38;5;28;01mfrom\u001b[39;00m \u001b[38;5;21;01merr\u001b[39;00m\n\u001b[0;32m   3813\u001b[0m \u001b[38;5;28;01mexcept\u001b[39;00m \u001b[38;5;167;01mTypeError\u001b[39;00m:\n\u001b[0;32m   3814\u001b[0m     \u001b[38;5;66;03m# If we have a listlike key, _check_indexing_error will raise\u001b[39;00m\n\u001b[0;32m   3815\u001b[0m     \u001b[38;5;66;03m#  InvalidIndexError. Otherwise we fall through and re-raise\u001b[39;00m\n\u001b[0;32m   3816\u001b[0m     \u001b[38;5;66;03m#  the TypeError.\u001b[39;00m\n\u001b[0;32m   3817\u001b[0m     \u001b[38;5;28mself\u001b[39m\u001b[38;5;241m.\u001b[39m_check_indexing_error(key)\n",
      "\u001b[1;31mKeyError\u001b[0m: 'Bedrooms: 7'"
     ]
    }
   ],
   "source": [
    "z='Furnis'\n",
    "df = move_data(df, source=a, target=j, condition_col=a, pattern=z)\n",
    "df = move_data(df, source=b, target=j, condition_col=b, pattern=z)\n",
    "df = move_data(df, source=c, target=j, condition_col=c, pattern=z)\n",
    "df = move_data(df, source=d, target=j, condition_col=d, pattern=z)\n",
    "df = move_data(df, source=f, target=j, condition_col=f, pattern=z)\n",
    "df = move_data(df, source=e, target=j, condition_col=e, pattern=z)\n",
    "df = move_data(df, source=g, target=j, condition_col=g, pattern=z)\n",
    "df = move_data(df, source=h, target=j, condition_col=h, pattern=z)"
   ]
  },
  {
   "cell_type": "code",
   "execution_count": 30,
   "metadata": {},
   "outputs": [],
   "source": [
    "z='Serv'\n",
    "df = move_data(df, source=a, target=h, condition_col=a, pattern=z)\n",
    "df = move_data(df, source=b, target=g, condition_col=b, pattern=z)\n",
    "df = move_data(df, source=c, target=h, condition_col=c, pattern=z)\n",
    "df = move_data(df, source=d, target=h, condition_col=d, pattern=z)\n",
    "df = move_data(df, source=f, target=h, condition_col=f, pattern=z)\n",
    "df = move_data(df, source=e, target=h, condition_col=e, pattern=z)\n",
    "df = move_data(df, source=g, target=h, condition_col=g, pattern=z)\n",
    "df = move_data(df, source=i, target=h, condition_col=i, pattern=z)"
   ]
  },
  {
   "cell_type": "code",
   "execution_count": 31,
   "metadata": {},
   "outputs": [
    {
     "data": {
      "text/plain": [
       "array([nan, 'Bathrooms: 2', 'Toilets: 6', 'Bathrooms: 4', 'Bathrooms: 6',\n",
       "       'Bathrooms: 5', 'Bathrooms: 8', 'Bathrooms: 3', 'Toilets: 4',\n",
       "       'Bathrooms: 10', 'Bathrooms: 1', 'Toilets: 5', 'Toilets: 7',\n",
       "       'Bathrooms: 7', 'Bathrooms: 9', None, 'Total Area: 1,000 sqm',\n",
       "       'Bathrooms: 37', 'Bathrooms: 12', 'Toilets: 2', 'Bathrooms: 30',\n",
       "       'Toilets: 8', 'Toilets: 3', 'Bathrooms: 18', 'Toilets: 10',\n",
       "       'Bathrooms: 22', 'Total Area: 500 sqm', 'Bathrooms: 11',\n",
       "       'Total Area: 950 sqm', 'Total Area: 2,000 sqm', 'Toilets: 9',\n",
       "       'Toilets: 24', 'Total Area: 973 sqm', 'Bathrooms: 16',\n",
       "       'Bathrooms: 72', 'Bathrooms: 28', 'Bathrooms: 19',\n",
       "       'Total Area: 3,200 sqm', 'Total Area: 750 sqm', 'Bathrooms: 14',\n",
       "       'Total Area: 1,500 sqm', 'Bathrooms: 64', 'Bathrooms: 13',\n",
       "       'Total Area: 1,134 sqm', 'Bathrooms: 20', 'Bathrooms: 17',\n",
       "       'Bathrooms: 24', 'Bathrooms: 46', 'Bathrooms: 48', 'Bathrooms: 40',\n",
       "       'Bathrooms: 287', 'Bathrooms: 32', 'Bathrooms: 55',\n",
       "       'Bathrooms: 70', 'Total Area: 250 sqm', 'Total Area: 780 sqm',\n",
       "       'Total Area: 650 sqm', 'Total Area: 1,800 sqm',\n",
       "       'Parking Spaces: 10', 'Toilets: 50', 'Toilets: 18',\n",
       "       'Total Area: 580 sqm', 'Bathrooms: 39', 'Total Area: 4,000 sqm',\n",
       "       'Total Area: 1,700 sqm', 'Total Area: 1,050 sqm',\n",
       "       'Total Area: 5,179 sqm', 'Total Area: 800 sqm',\n",
       "       'Total Area: 5,000 sqm', 'Bathrooms: 23', 'Total Area: 1,200 sqm',\n",
       "       'Total Area: 1,400 sqm', 'Parking Spaces: 400',\n",
       "       'Total Area: 2,619 sqm', 'Bathrooms: 60', 'Total Area: 1,300 sqm',\n",
       "       'Toilets: 35', 'Bathrooms: 25', 'Bathrooms: 26', 'Toilets: 28',\n",
       "       'Bathrooms: 44', 'Total Area: 8,000 sqm', 'Bathrooms: 50',\n",
       "       'Covered Area: 5,600 sqm', 'Bathrooms: 93',\n",
       "       'Covered Area: 624 sqm'], dtype=object)"
      ]
     },
     "execution_count": 31,
     "metadata": {},
     "output_type": "execute_result"
    }
   ],
   "source": [
    "df['Bathrooms: 8'].unique()"
   ]
  },
  {
   "cell_type": "code",
   "execution_count": 32,
   "metadata": {},
   "outputs": [],
   "source": [
    "\n",
    "\n",
    "df = move_data(df, source=a, target=f, condition_col=a, pattern='Covered Area')\n",
    "df = move_data(df, source=b, target=f, condition_col=b, pattern='Covered Area')\n",
    "df = move_data(df, source=c, target=f, condition_col=c, pattern='Covered Area')\n",
    "df = move_data(df, source=d, target=f, condition_col=d, pattern='Covered Area')\n",
    "df = move_data(df, source=e, target=f, condition_col=e, pattern='Covered Area')\n",
    "df = move_data(df, source=g, target=f, condition_col=g, pattern='Covered Area')\n",
    "df = move_data(df, source=h, target=f, condition_col=h, pattern='Covered Area')\n",
    "df = move_data(df, source=i, target=f, condition_col=i, pattern='Covered Area')\n"
   ]
  },
  {
   "cell_type": "code",
   "execution_count": 33,
   "metadata": {},
   "outputs": [],
   "source": [
    "z='Total Area'\n",
    "df = move_data(df, source=a, target=e, condition_col=a, pattern=z)\n",
    "df = move_data(df, source=b, target=e, condition_col=b, pattern=z)\n",
    "df = move_data(df, source=c, target=e, condition_col=c, pattern=z)\n",
    "df = move_data(df, source=d, target=e, condition_col=d, pattern=z)\n",
    "df = move_data(df, source=f, target=e, condition_col=f, pattern=z)\n",
    "df = move_data(df, source=g, target=e, condition_col=g, pattern=z)\n",
    "df = move_data(df, source=h, target=e, condition_col=h, pattern=z)\n",
    "df = move_data(df, source=i, target=e, condition_col=i, pattern=z)"
   ]
  },
  {
   "cell_type": "code",
   "execution_count": null,
   "metadata": {},
   "outputs": [],
   "source": []
  },
  {
   "cell_type": "code",
   "execution_count": 34,
   "metadata": {},
   "outputs": [],
   "source": [
    "z='Parking Spaces'\n",
    "df = move_data(df, source=a, target=d, condition_col=a, pattern=z)\n",
    "df = move_data(df, source=b, target=d, condition_col=b, pattern=z)\n",
    "df = move_data(df, source=c, target=d, condition_col=c, pattern=z)\n",
    "df = move_data(df, source=e, target=d, condition_col=e, pattern=z)\n",
    "df = move_data(df, source=f, target=d, condition_col=f, pattern=z)\n",
    "df = move_data(df, source=g, target=d, condition_col=g, pattern=z)\n",
    "df = move_data(df, source=h, target=d, condition_col=h, pattern=z)\n",
    "df = move_data(df, source=i, target=d, condition_col=i, pattern=z)"
   ]
  },
  {
   "cell_type": "code",
   "execution_count": 35,
   "metadata": {},
   "outputs": [],
   "source": [
    "z='Toilets'\n",
    "df = move_data(df, source=a, target=c, condition_col=a, pattern=z)\n",
    "df = move_data(df, source=b, target=c, condition_col=b, pattern=z)\n",
    "df = move_data(df, source=d, target=c, condition_col=d, pattern=z)\n",
    "df = move_data(df, source=e, target=c, condition_col=e, pattern=z)\n",
    "df = move_data(df, source=f, target=c, condition_col=f, pattern=z)\n",
    "df = move_data(df, source=g, target=c, condition_col=g, pattern=z)\n",
    "df = move_data(df, source=h, target=c, condition_col=h, pattern=z)\n",
    "df = move_data(df, source=i, target=c, condition_col=i, pattern=z)"
   ]
  },
  {
   "cell_type": "code",
   "execution_count": 36,
   "metadata": {},
   "outputs": [
    {
     "data": {
      "text/plain": [
       "array([nan, 'Bathrooms: 2', None, 'Bathrooms: 4', 'Bathrooms: 6',\n",
       "       'Bathrooms: 5', 'Bathrooms: 8', 'Bathrooms: 3', 'Bathrooms: 10',\n",
       "       'Bathrooms: 1', 'Bathrooms: 7', 'Bathrooms: 9', 'Bathrooms: 37',\n",
       "       'Bathrooms: 12', 'Bathrooms: 30', 'Bathrooms: 18', 'Bathrooms: 22',\n",
       "       'Bathrooms: 11', 'Bathrooms: 16', 'Bathrooms: 72', 'Bathrooms: 28',\n",
       "       'Bathrooms: 19', 'Bathrooms: 14', 'Bathrooms: 64', 'Bathrooms: 13',\n",
       "       'Bathrooms: 20', 'Bathrooms: 17', 'Bathrooms: 24', 'Bathrooms: 46',\n",
       "       'Bathrooms: 48', 'Bathrooms: 40', 'Bathrooms: 287',\n",
       "       'Bathrooms: 32', 'Bathrooms: 55', 'Bathrooms: 70', 'Bathrooms: 39',\n",
       "       'Bathrooms: 23', 'Bathrooms: 60', 'Bathrooms: 25', 'Bathrooms: 26',\n",
       "       'Bathrooms: 44', 'Bathrooms: 50', 'Bathrooms: 93'], dtype=object)"
      ]
     },
     "execution_count": 36,
     "metadata": {},
     "output_type": "execute_result"
    }
   ],
   "source": [
    "df['Bathrooms: 8'].unique()"
   ]
  },
  {
   "cell_type": "code",
   "execution_count": 37,
   "metadata": {},
   "outputs": [
    {
     "data": {
      "text/plain": [
       "array(['Bedrooms: 5', 'Bedrooms: 2', 'Bedrooms: 4', 'Bedrooms: 3',\n",
       "       'Bedrooms: 6', 'Bedrooms: 9', 'Bedrooms: 1', 'Bedrooms: 8',\n",
       "       'Bedrooms: 7', 'Bedrooms: 11', 'Bedrooms: 37', 'Bedrooms: 40',\n",
       "       'Bedrooms: 10', None, nan, 'Bedrooms: 12', 'Bedrooms: 14',\n",
       "       'Bathrooms: 18', 'Bedrooms: 16', 'Bedrooms: 54', 'Bedrooms: 28',\n",
       "       'Bedrooms: 36', 'Bedrooms: 17', 'Bathrooms: 2', 'Bedrooms: 64',\n",
       "       'Bedrooms: 13', 'Bedrooms: 20', 'Bedrooms: 15', 'Bedrooms: 46',\n",
       "       'Bedrooms: 48', 'Bedrooms: 287', 'Bedrooms: 32', 'Bedrooms: 18',\n",
       "       'Bedrooms: 38', 'Bedrooms: 39', 'Bedrooms: 33', 'Bedrooms: 21',\n",
       "       'Bedrooms: 60', 'Bathrooms: 6', 'Bedrooms: 25', 'Bedrooms: 26',\n",
       "       'Bedrooms: 44', 'Bedrooms: 50', 'Bedrooms: 23', 'Bedrooms: 24',\n",
       "       'Bedrooms: 65', 'Bedrooms: 42', 'Bedrooms: 56'], dtype=object)"
      ]
     },
     "execution_count": 37,
     "metadata": {},
     "output_type": "execute_result"
    }
   ],
   "source": [
    "df['Bedrooms: 7'].unique()"
   ]
  },
  {
   "cell_type": "code",
   "execution_count": 38,
   "metadata": {},
   "outputs": [],
   "source": [
    "z='Bathrooms'\n",
    "df = move_data(df, source=a, target=b, condition_col=a, pattern=z)\n",
    "df = move_data(df, source=c, target=b, condition_col=c, pattern=z)\n",
    "df = move_data(df, source=d, target=b, condition_col=d, pattern=z)\n",
    "df = move_data(df, source=e, target=b, condition_col=e, pattern=z)\n",
    "df = move_data(df, source=f, target=b, condition_col=f, pattern=z)\n",
    "df = move_data(df, source=g, target=b, condition_col=g, pattern=z)\n",
    "df = move_data(df, source=h, target=b, condition_col=h, pattern=z)\n",
    "df = move_data(df, source=i, target=b, condition_col=i, pattern=z)"
   ]
  },
  {
   "cell_type": "code",
   "execution_count": 39,
   "metadata": {},
   "outputs": [],
   "source": [
    "z='Bedrooms'\n",
    "df = move_data(df, source=b, target=a, condition_col=b, pattern=z)\n",
    "df = move_data(df, source=c, target=a, condition_col=c, pattern=z)\n",
    "df = move_data(df, source=d, target=a, condition_col=d, pattern=z)\n",
    "df = move_data(df, source=e, target=a, condition_col=e, pattern=z)\n",
    "df = move_data(df, source=f, target=a, condition_col=f, pattern=z)\n",
    "df = move_data(df, source=g, target=a, condition_col=g, pattern=z)\n",
    "df = move_data(df, source=h, target=a, condition_col=h, pattern=z)\n",
    "df = move_data(df, source=i, target=a, condition_col=i, pattern=z)"
   ]
  },
  {
   "cell_type": "code",
   "execution_count": 40,
   "metadata": {},
   "outputs": [],
   "source": [
    "df = move_data(df, source=g, target=f, condition_col=g, pattern='Covered Area')\n"
   ]
  },
  {
   "cell_type": "code",
   "execution_count": 41,
   "metadata": {},
   "outputs": [
    {
     "name": "stdout",
     "output_type": "stream",
     "text": [
      "<class 'pandas.core.frame.DataFrame'>\n",
      "RangeIndex: 6866 entries, 0 to 6865\n",
      "Data columns (total 16 columns):\n",
      " #   Column                     Non-Null Count  Dtype \n",
      "---  ------                     --------------  ----- \n",
      " 0   2,500,000,000              6866 non-null   object\n",
      " 1   Maitama District, Abuja    6866 non-null   object\n",
      " 2   Property Ref: 2173814      6866 non-null   object\n",
      " 3   Added On: 22 Mar 2024      6866 non-null   object\n",
      " 4   Last Updated: 23 Apr 2024  6866 non-null   object\n",
      " 5   Market Status: Available   6866 non-null   object\n",
      " 6   Type: Detached Duplex      6866 non-null   object\n",
      " 7   Bedrooms: 7                6832 non-null   object\n",
      " 8   Bathrooms: 8               5743 non-null   object\n",
      " 9   Toilets: 8                 6101 non-null   object\n",
      " 10  Parking Spaces: 10         4036 non-null   object\n",
      " 11  Total Area: 1,700 sqm      2316 non-null   object\n",
      " 12  Covered Area: 1,700 sqm    1791 non-null   object\n",
      " 13  Unnamed: 13                18 non-null     object\n",
      " 14  Unnamed: 14                403 non-null    object\n",
      " 15  Unnamed: 15                525 non-null    object\n",
      "dtypes: object(16)\n",
      "memory usage: 858.4+ KB\n"
     ]
    }
   ],
   "source": [
    "df .info()"
   ]
  },
  {
   "cell_type": "code",
   "execution_count": 42,
   "metadata": {},
   "outputs": [],
   "source": [
    "df.drop(df.columns[11:],axis=1,inplace=True)"
   ]
  },
  {
   "cell_type": "code",
   "execution_count": 43,
   "metadata": {},
   "outputs": [],
   "source": [
    "df.columns=['price','address','property ref','lsited on','last updated','market status','type','bedrooms','bathrooms','toilets','parking spaces']"
   ]
  },
  {
   "cell_type": "code",
   "execution_count": 44,
   "metadata": {},
   "outputs": [
    {
     "data": {
      "text/html": [
       "<div>\n",
       "<style scoped>\n",
       "    .dataframe tbody tr th:only-of-type {\n",
       "        vertical-align: middle;\n",
       "    }\n",
       "\n",
       "    .dataframe tbody tr th {\n",
       "        vertical-align: top;\n",
       "    }\n",
       "\n",
       "    .dataframe thead th {\n",
       "        text-align: right;\n",
       "    }\n",
       "</style>\n",
       "<table border=\"1\" class=\"dataframe\">\n",
       "  <thead>\n",
       "    <tr style=\"text-align: right;\">\n",
       "      <th></th>\n",
       "      <th>price</th>\n",
       "      <th>address</th>\n",
       "      <th>property ref</th>\n",
       "      <th>lsited on</th>\n",
       "      <th>last updated</th>\n",
       "      <th>market status</th>\n",
       "      <th>type</th>\n",
       "      <th>bedrooms</th>\n",
       "      <th>bathrooms</th>\n",
       "      <th>toilets</th>\n",
       "      <th>parking spaces</th>\n",
       "    </tr>\n",
       "  </thead>\n",
       "  <tbody>\n",
       "    <tr>\n",
       "      <th>0</th>\n",
       "      <td>63,246,500</td>\n",
       "      <td>After Mountain Of Fire Estate, Before Shalom E...</td>\n",
       "      <td>Property Ref: 2260849</td>\n",
       "      <td>Added On: 17 May 2024</td>\n",
       "      <td>Last Updated: 17 May 2024</td>\n",
       "      <td>Market Status: Available</td>\n",
       "      <td>Type: Detached Duplex</td>\n",
       "      <td>Bedrooms: 5</td>\n",
       "      <td>NaN</td>\n",
       "      <td>NaN</td>\n",
       "      <td>NaN</td>\n",
       "    </tr>\n",
       "    <tr>\n",
       "      <th>1</th>\n",
       "      <td>65,000,000</td>\n",
       "      <td>By American International School, Durumi, Abuja</td>\n",
       "      <td>Property Ref: 2260848</td>\n",
       "      <td>Added On: 17 May 2024</td>\n",
       "      <td>Last Updated: 17 May 2024</td>\n",
       "      <td>Market Status: Available</td>\n",
       "      <td>Type: Block of Flats</td>\n",
       "      <td>Bedrooms: 2</td>\n",
       "      <td>Bathrooms: 2</td>\n",
       "      <td>Toilets: 3</td>\n",
       "      <td>Parking Spaces: 3</td>\n",
       "    </tr>\n",
       "    <tr>\n",
       "      <th>2</th>\n",
       "      <td>480,000,000</td>\n",
       "      <td>Wuye, Abuja</td>\n",
       "      <td>Property Ref: 2260802</td>\n",
       "      <td>Added On: 17 May 2024</td>\n",
       "      <td>Last Updated: 17 May 2024</td>\n",
       "      <td>Market Status: Available</td>\n",
       "      <td>Type: Detached Duplex</td>\n",
       "      <td>Bedrooms: 5</td>\n",
       "      <td>None</td>\n",
       "      <td>Toilets: 6</td>\n",
       "      <td>NaN</td>\n",
       "    </tr>\n",
       "    <tr>\n",
       "      <th>3</th>\n",
       "      <td>140,000,000</td>\n",
       "      <td>Karsana Gwarimpa Extension In An Estate, Gwari...</td>\n",
       "      <td>Property Ref: 2260786</td>\n",
       "      <td>Added On: 17 May 2024</td>\n",
       "      <td>Last Updated: 17 May 2024</td>\n",
       "      <td>Market Status: Available</td>\n",
       "      <td>Type: Detached Duplex</td>\n",
       "      <td>Bedrooms: 4</td>\n",
       "      <td>Bathrooms: 4</td>\n",
       "      <td>Toilets: 5</td>\n",
       "      <td>Parking Spaces: 3</td>\n",
       "    </tr>\n",
       "    <tr>\n",
       "      <th>4</th>\n",
       "      <td>63,500,000</td>\n",
       "      <td>Lugbe District, Abuja</td>\n",
       "      <td>Property Ref: 2260743</td>\n",
       "      <td>Added On: 17 May 2024</td>\n",
       "      <td>Last Updated: 17 May 2024</td>\n",
       "      <td>Market Status: Available</td>\n",
       "      <td>Type: House</td>\n",
       "      <td>Bedrooms: 5</td>\n",
       "      <td>Bathrooms: 6</td>\n",
       "      <td>Toilets: 6</td>\n",
       "      <td>NaN</td>\n",
       "    </tr>\n",
       "    <tr>\n",
       "      <th>...</th>\n",
       "      <td>...</td>\n",
       "      <td>...</td>\n",
       "      <td>...</td>\n",
       "      <td>...</td>\n",
       "      <td>...</td>\n",
       "      <td>...</td>\n",
       "      <td>...</td>\n",
       "      <td>...</td>\n",
       "      <td>...</td>\n",
       "      <td>...</td>\n",
       "      <td>...</td>\n",
       "    </tr>\n",
       "    <tr>\n",
       "      <th>6861</th>\n",
       "      <td>400,000,000</td>\n",
       "      <td>Guzape District, Abuja</td>\n",
       "      <td>Property Ref: 1420010</td>\n",
       "      <td>Added On: 13 Aug 2022</td>\n",
       "      <td>Last Updated: 09 May 2024</td>\n",
       "      <td>Market Status: Available</td>\n",
       "      <td>Type: Terraced Duplex</td>\n",
       "      <td>Bedrooms: 5</td>\n",
       "      <td>NaN</td>\n",
       "      <td>NaN</td>\n",
       "      <td>NaN</td>\n",
       "    </tr>\n",
       "    <tr>\n",
       "      <th>6862</th>\n",
       "      <td>300,000,000</td>\n",
       "      <td>Guzape District, Abuja</td>\n",
       "      <td>Property Ref: 1416671</td>\n",
       "      <td>Added On: 10 Aug 2022</td>\n",
       "      <td>Last Updated: 04 Apr 2024</td>\n",
       "      <td>Market Status: Available</td>\n",
       "      <td>Type: Semi-detached Duplex</td>\n",
       "      <td>Bedrooms: 6</td>\n",
       "      <td>Bathrooms: 6</td>\n",
       "      <td>Toilets: 7</td>\n",
       "      <td>Parking Spaces: 5</td>\n",
       "    </tr>\n",
       "    <tr>\n",
       "      <th>6863</th>\n",
       "      <td>95,000,000</td>\n",
       "      <td>Dakibiyu, Abuja</td>\n",
       "      <td>Property Ref: 1358938</td>\n",
       "      <td>Added On: 18 Jun 2022</td>\n",
       "      <td>Last Updated: 22 Feb 2024</td>\n",
       "      <td>Market Status: Available</td>\n",
       "      <td>Type: Semi-detached Duplex</td>\n",
       "      <td>Bedrooms: 4</td>\n",
       "      <td>Bathrooms: 4</td>\n",
       "      <td>Toilets: 5</td>\n",
       "      <td>NaN</td>\n",
       "    </tr>\n",
       "    <tr>\n",
       "      <th>6864</th>\n",
       "      <td>420,000,000</td>\n",
       "      <td>Katampe Extension, Katampe, Abuja</td>\n",
       "      <td>Property Ref: 1413836</td>\n",
       "      <td>Added On: 08 Aug 2022</td>\n",
       "      <td>Last Updated: 17 May 2024</td>\n",
       "      <td>Market Status: Available</td>\n",
       "      <td>Type: Detached Duplex</td>\n",
       "      <td>Bedrooms: 6</td>\n",
       "      <td>Bathrooms: 6</td>\n",
       "      <td>Toilets: 7</td>\n",
       "      <td>Parking Spaces: 7</td>\n",
       "    </tr>\n",
       "    <tr>\n",
       "      <th>6865</th>\n",
       "      <td>90,000,000</td>\n",
       "      <td>By Turkish Hospital, Idu Industrial, Abuja</td>\n",
       "      <td>Property Ref: 1407515</td>\n",
       "      <td>Added On: 03 Aug 2022</td>\n",
       "      <td>Last Updated: 18 Mar 2024</td>\n",
       "      <td>Market Status: Available</td>\n",
       "      <td>Type: Detached Duplex</td>\n",
       "      <td>Bedrooms: 5</td>\n",
       "      <td>Bathrooms: 5</td>\n",
       "      <td>Toilets: 6</td>\n",
       "      <td>Parking Spaces: 5</td>\n",
       "    </tr>\n",
       "  </tbody>\n",
       "</table>\n",
       "<p>6866 rows × 11 columns</p>\n",
       "</div>"
      ],
      "text/plain": [
       "            price                                            address  \\\n",
       "0      63,246,500  After Mountain Of Fire Estate, Before Shalom E...   \n",
       "1      65,000,000    By American International School, Durumi, Abuja   \n",
       "2     480,000,000                                        Wuye, Abuja   \n",
       "3     140,000,000  Karsana Gwarimpa Extension In An Estate, Gwari...   \n",
       "4      63,500,000                              Lugbe District, Abuja   \n",
       "...           ...                                                ...   \n",
       "6861  400,000,000                             Guzape District, Abuja   \n",
       "6862  300,000,000                             Guzape District, Abuja   \n",
       "6863   95,000,000                                    Dakibiyu, Abuja   \n",
       "6864  420,000,000                  Katampe Extension, Katampe, Abuja   \n",
       "6865   90,000,000         By Turkish Hospital, Idu Industrial, Abuja   \n",
       "\n",
       "               property ref              lsited on               last updated  \\\n",
       "0     Property Ref: 2260849  Added On: 17 May 2024  Last Updated: 17 May 2024   \n",
       "1     Property Ref: 2260848  Added On: 17 May 2024  Last Updated: 17 May 2024   \n",
       "2     Property Ref: 2260802  Added On: 17 May 2024  Last Updated: 17 May 2024   \n",
       "3     Property Ref: 2260786  Added On: 17 May 2024  Last Updated: 17 May 2024   \n",
       "4     Property Ref: 2260743  Added On: 17 May 2024  Last Updated: 17 May 2024   \n",
       "...                     ...                    ...                        ...   \n",
       "6861  Property Ref: 1420010  Added On: 13 Aug 2022  Last Updated: 09 May 2024   \n",
       "6862  Property Ref: 1416671  Added On: 10 Aug 2022  Last Updated: 04 Apr 2024   \n",
       "6863  Property Ref: 1358938  Added On: 18 Jun 2022  Last Updated: 22 Feb 2024   \n",
       "6864  Property Ref: 1413836  Added On: 08 Aug 2022  Last Updated: 17 May 2024   \n",
       "6865  Property Ref: 1407515  Added On: 03 Aug 2022  Last Updated: 18 Mar 2024   \n",
       "\n",
       "                 market status                        type     bedrooms  \\\n",
       "0     Market Status: Available       Type: Detached Duplex  Bedrooms: 5   \n",
       "1     Market Status: Available        Type: Block of Flats  Bedrooms: 2   \n",
       "2     Market Status: Available       Type: Detached Duplex  Bedrooms: 5   \n",
       "3     Market Status: Available       Type: Detached Duplex  Bedrooms: 4   \n",
       "4     Market Status: Available                 Type: House  Bedrooms: 5   \n",
       "...                        ...                         ...          ...   \n",
       "6861  Market Status: Available       Type: Terraced Duplex  Bedrooms: 5   \n",
       "6862  Market Status: Available  Type: Semi-detached Duplex  Bedrooms: 6   \n",
       "6863  Market Status: Available  Type: Semi-detached Duplex  Bedrooms: 4   \n",
       "6864  Market Status: Available       Type: Detached Duplex  Bedrooms: 6   \n",
       "6865  Market Status: Available       Type: Detached Duplex  Bedrooms: 5   \n",
       "\n",
       "         bathrooms     toilets     parking spaces  \n",
       "0              NaN         NaN                NaN  \n",
       "1     Bathrooms: 2  Toilets: 3  Parking Spaces: 3  \n",
       "2             None  Toilets: 6                NaN  \n",
       "3     Bathrooms: 4  Toilets: 5  Parking Spaces: 3  \n",
       "4     Bathrooms: 6  Toilets: 6                NaN  \n",
       "...            ...         ...                ...  \n",
       "6861           NaN         NaN                NaN  \n",
       "6862  Bathrooms: 6  Toilets: 7  Parking Spaces: 5  \n",
       "6863  Bathrooms: 4  Toilets: 5                NaN  \n",
       "6864  Bathrooms: 6  Toilets: 7  Parking Spaces: 7  \n",
       "6865  Bathrooms: 5  Toilets: 6  Parking Spaces: 5  \n",
       "\n",
       "[6866 rows x 11 columns]"
      ]
     },
     "execution_count": 44,
     "metadata": {},
     "output_type": "execute_result"
    }
   ],
   "source": [
    "df"
   ]
  },
  {
   "cell_type": "code",
   "execution_count": 45,
   "metadata": {},
   "outputs": [],
   "source": [
    "df['price']=df['price'].str.replace(',',\"\")"
   ]
  },
  {
   "cell_type": "code",
   "execution_count": 46,
   "metadata": {},
   "outputs": [
    {
     "data": {
      "text/plain": [
       "0        63246500\n",
       "1        65000000\n",
       "2       480000000\n",
       "3       140000000\n",
       "4        63500000\n",
       "          ...    \n",
       "6861    400000000\n",
       "6862    300000000\n",
       "6863     95000000\n",
       "6864    420000000\n",
       "6865     90000000\n",
       "Name: price, Length: 6866, dtype: Int64"
      ]
     },
     "execution_count": 46,
     "metadata": {},
     "output_type": "execute_result"
    }
   ],
   "source": [
    "df.price.astype('Int64')"
   ]
  },
  {
   "cell_type": "code",
   "execution_count": 47,
   "metadata": {},
   "outputs": [],
   "source": [
    "df['property ref']=df['property ref'].str.replace('Property Ref:',\"\")"
   ]
  },
  {
   "cell_type": "code",
   "execution_count": 48,
   "metadata": {},
   "outputs": [
    {
     "data": {
      "text/html": [
       "<div>\n",
       "<style scoped>\n",
       "    .dataframe tbody tr th:only-of-type {\n",
       "        vertical-align: middle;\n",
       "    }\n",
       "\n",
       "    .dataframe tbody tr th {\n",
       "        vertical-align: top;\n",
       "    }\n",
       "\n",
       "    .dataframe thead th {\n",
       "        text-align: right;\n",
       "    }\n",
       "</style>\n",
       "<table border=\"1\" class=\"dataframe\">\n",
       "  <thead>\n",
       "    <tr style=\"text-align: right;\">\n",
       "      <th></th>\n",
       "      <th>price</th>\n",
       "      <th>address</th>\n",
       "      <th>property ref</th>\n",
       "      <th>lsited on</th>\n",
       "      <th>last updated</th>\n",
       "      <th>market status</th>\n",
       "      <th>type</th>\n",
       "      <th>bedrooms</th>\n",
       "      <th>bathrooms</th>\n",
       "      <th>toilets</th>\n",
       "      <th>parking spaces</th>\n",
       "    </tr>\n",
       "  </thead>\n",
       "  <tbody>\n",
       "    <tr>\n",
       "      <th>0</th>\n",
       "      <td>63246500</td>\n",
       "      <td>After Mountain Of Fire Estate, Before Shalom E...</td>\n",
       "      <td>2260849</td>\n",
       "      <td>Added On: 17 May 2024</td>\n",
       "      <td>Last Updated: 17 May 2024</td>\n",
       "      <td>Market Status: Available</td>\n",
       "      <td>Type: Detached Duplex</td>\n",
       "      <td>Bedrooms: 5</td>\n",
       "      <td>NaN</td>\n",
       "      <td>NaN</td>\n",
       "      <td>NaN</td>\n",
       "    </tr>\n",
       "    <tr>\n",
       "      <th>1</th>\n",
       "      <td>65000000</td>\n",
       "      <td>By American International School, Durumi, Abuja</td>\n",
       "      <td>2260848</td>\n",
       "      <td>Added On: 17 May 2024</td>\n",
       "      <td>Last Updated: 17 May 2024</td>\n",
       "      <td>Market Status: Available</td>\n",
       "      <td>Type: Block of Flats</td>\n",
       "      <td>Bedrooms: 2</td>\n",
       "      <td>Bathrooms: 2</td>\n",
       "      <td>Toilets: 3</td>\n",
       "      <td>Parking Spaces: 3</td>\n",
       "    </tr>\n",
       "    <tr>\n",
       "      <th>2</th>\n",
       "      <td>480000000</td>\n",
       "      <td>Wuye, Abuja</td>\n",
       "      <td>2260802</td>\n",
       "      <td>Added On: 17 May 2024</td>\n",
       "      <td>Last Updated: 17 May 2024</td>\n",
       "      <td>Market Status: Available</td>\n",
       "      <td>Type: Detached Duplex</td>\n",
       "      <td>Bedrooms: 5</td>\n",
       "      <td>None</td>\n",
       "      <td>Toilets: 6</td>\n",
       "      <td>NaN</td>\n",
       "    </tr>\n",
       "    <tr>\n",
       "      <th>3</th>\n",
       "      <td>140000000</td>\n",
       "      <td>Karsana Gwarimpa Extension In An Estate, Gwari...</td>\n",
       "      <td>2260786</td>\n",
       "      <td>Added On: 17 May 2024</td>\n",
       "      <td>Last Updated: 17 May 2024</td>\n",
       "      <td>Market Status: Available</td>\n",
       "      <td>Type: Detached Duplex</td>\n",
       "      <td>Bedrooms: 4</td>\n",
       "      <td>Bathrooms: 4</td>\n",
       "      <td>Toilets: 5</td>\n",
       "      <td>Parking Spaces: 3</td>\n",
       "    </tr>\n",
       "    <tr>\n",
       "      <th>4</th>\n",
       "      <td>63500000</td>\n",
       "      <td>Lugbe District, Abuja</td>\n",
       "      <td>2260743</td>\n",
       "      <td>Added On: 17 May 2024</td>\n",
       "      <td>Last Updated: 17 May 2024</td>\n",
       "      <td>Market Status: Available</td>\n",
       "      <td>Type: House</td>\n",
       "      <td>Bedrooms: 5</td>\n",
       "      <td>Bathrooms: 6</td>\n",
       "      <td>Toilets: 6</td>\n",
       "      <td>NaN</td>\n",
       "    </tr>\n",
       "  </tbody>\n",
       "</table>\n",
       "</div>"
      ],
      "text/plain": [
       "       price                                            address property ref  \\\n",
       "0   63246500  After Mountain Of Fire Estate, Before Shalom E...      2260849   \n",
       "1   65000000    By American International School, Durumi, Abuja      2260848   \n",
       "2  480000000                                        Wuye, Abuja      2260802   \n",
       "3  140000000  Karsana Gwarimpa Extension In An Estate, Gwari...      2260786   \n",
       "4   63500000                              Lugbe District, Abuja      2260743   \n",
       "\n",
       "               lsited on               last updated             market status  \\\n",
       "0  Added On: 17 May 2024  Last Updated: 17 May 2024  Market Status: Available   \n",
       "1  Added On: 17 May 2024  Last Updated: 17 May 2024  Market Status: Available   \n",
       "2  Added On: 17 May 2024  Last Updated: 17 May 2024  Market Status: Available   \n",
       "3  Added On: 17 May 2024  Last Updated: 17 May 2024  Market Status: Available   \n",
       "4  Added On: 17 May 2024  Last Updated: 17 May 2024  Market Status: Available   \n",
       "\n",
       "                    type     bedrooms     bathrooms     toilets  \\\n",
       "0  Type: Detached Duplex  Bedrooms: 5           NaN         NaN   \n",
       "1   Type: Block of Flats  Bedrooms: 2  Bathrooms: 2  Toilets: 3   \n",
       "2  Type: Detached Duplex  Bedrooms: 5          None  Toilets: 6   \n",
       "3  Type: Detached Duplex  Bedrooms: 4  Bathrooms: 4  Toilets: 5   \n",
       "4            Type: House  Bedrooms: 5  Bathrooms: 6  Toilets: 6   \n",
       "\n",
       "      parking spaces  \n",
       "0                NaN  \n",
       "1  Parking Spaces: 3  \n",
       "2                NaN  \n",
       "3  Parking Spaces: 3  \n",
       "4                NaN  "
      ]
     },
     "execution_count": 48,
     "metadata": {},
     "output_type": "execute_result"
    }
   ],
   "source": [
    "df.head()"
   ]
  },
  {
   "cell_type": "code",
   "execution_count": 49,
   "metadata": {},
   "outputs": [],
   "source": [
    "df['lsited on']=df['lsited on'].str.replace('Added On: ',\"\")"
   ]
  },
  {
   "cell_type": "code",
   "execution_count": 50,
   "metadata": {},
   "outputs": [],
   "source": [
    "df['last updated']=df['last updated'].str.replace('Last Updated: ',\"\")"
   ]
  },
  {
   "cell_type": "code",
   "execution_count": 51,
   "metadata": {},
   "outputs": [],
   "source": [
    "df['market status']=df['market status'].str.replace('Market Status: ',\"\")"
   ]
  },
  {
   "cell_type": "code",
   "execution_count": 52,
   "metadata": {},
   "outputs": [
    {
     "data": {
      "text/html": [
       "<div>\n",
       "<style scoped>\n",
       "    .dataframe tbody tr th:only-of-type {\n",
       "        vertical-align: middle;\n",
       "    }\n",
       "\n",
       "    .dataframe tbody tr th {\n",
       "        vertical-align: top;\n",
       "    }\n",
       "\n",
       "    .dataframe thead th {\n",
       "        text-align: right;\n",
       "    }\n",
       "</style>\n",
       "<table border=\"1\" class=\"dataframe\">\n",
       "  <thead>\n",
       "    <tr style=\"text-align: right;\">\n",
       "      <th></th>\n",
       "      <th>price</th>\n",
       "      <th>address</th>\n",
       "      <th>property ref</th>\n",
       "      <th>lsited on</th>\n",
       "      <th>last updated</th>\n",
       "      <th>market status</th>\n",
       "      <th>type</th>\n",
       "      <th>bedrooms</th>\n",
       "      <th>bathrooms</th>\n",
       "      <th>toilets</th>\n",
       "      <th>parking spaces</th>\n",
       "    </tr>\n",
       "  </thead>\n",
       "  <tbody>\n",
       "    <tr>\n",
       "      <th>0</th>\n",
       "      <td>63246500</td>\n",
       "      <td>After Mountain Of Fire Estate, Before Shalom E...</td>\n",
       "      <td>2260849</td>\n",
       "      <td>17 May 2024</td>\n",
       "      <td>17 May 2024</td>\n",
       "      <td>Available</td>\n",
       "      <td>Type: Detached Duplex</td>\n",
       "      <td>Bedrooms: 5</td>\n",
       "      <td>NaN</td>\n",
       "      <td>NaN</td>\n",
       "      <td>NaN</td>\n",
       "    </tr>\n",
       "    <tr>\n",
       "      <th>1</th>\n",
       "      <td>65000000</td>\n",
       "      <td>By American International School, Durumi, Abuja</td>\n",
       "      <td>2260848</td>\n",
       "      <td>17 May 2024</td>\n",
       "      <td>17 May 2024</td>\n",
       "      <td>Available</td>\n",
       "      <td>Type: Block of Flats</td>\n",
       "      <td>Bedrooms: 2</td>\n",
       "      <td>Bathrooms: 2</td>\n",
       "      <td>Toilets: 3</td>\n",
       "      <td>Parking Spaces: 3</td>\n",
       "    </tr>\n",
       "    <tr>\n",
       "      <th>2</th>\n",
       "      <td>480000000</td>\n",
       "      <td>Wuye, Abuja</td>\n",
       "      <td>2260802</td>\n",
       "      <td>17 May 2024</td>\n",
       "      <td>17 May 2024</td>\n",
       "      <td>Available</td>\n",
       "      <td>Type: Detached Duplex</td>\n",
       "      <td>Bedrooms: 5</td>\n",
       "      <td>None</td>\n",
       "      <td>Toilets: 6</td>\n",
       "      <td>NaN</td>\n",
       "    </tr>\n",
       "    <tr>\n",
       "      <th>3</th>\n",
       "      <td>140000000</td>\n",
       "      <td>Karsana Gwarimpa Extension In An Estate, Gwari...</td>\n",
       "      <td>2260786</td>\n",
       "      <td>17 May 2024</td>\n",
       "      <td>17 May 2024</td>\n",
       "      <td>Available</td>\n",
       "      <td>Type: Detached Duplex</td>\n",
       "      <td>Bedrooms: 4</td>\n",
       "      <td>Bathrooms: 4</td>\n",
       "      <td>Toilets: 5</td>\n",
       "      <td>Parking Spaces: 3</td>\n",
       "    </tr>\n",
       "    <tr>\n",
       "      <th>4</th>\n",
       "      <td>63500000</td>\n",
       "      <td>Lugbe District, Abuja</td>\n",
       "      <td>2260743</td>\n",
       "      <td>17 May 2024</td>\n",
       "      <td>17 May 2024</td>\n",
       "      <td>Available</td>\n",
       "      <td>Type: House</td>\n",
       "      <td>Bedrooms: 5</td>\n",
       "      <td>Bathrooms: 6</td>\n",
       "      <td>Toilets: 6</td>\n",
       "      <td>NaN</td>\n",
       "    </tr>\n",
       "    <tr>\n",
       "      <th>...</th>\n",
       "      <td>...</td>\n",
       "      <td>...</td>\n",
       "      <td>...</td>\n",
       "      <td>...</td>\n",
       "      <td>...</td>\n",
       "      <td>...</td>\n",
       "      <td>...</td>\n",
       "      <td>...</td>\n",
       "      <td>...</td>\n",
       "      <td>...</td>\n",
       "      <td>...</td>\n",
       "    </tr>\n",
       "    <tr>\n",
       "      <th>6861</th>\n",
       "      <td>400000000</td>\n",
       "      <td>Guzape District, Abuja</td>\n",
       "      <td>1420010</td>\n",
       "      <td>13 Aug 2022</td>\n",
       "      <td>09 May 2024</td>\n",
       "      <td>Available</td>\n",
       "      <td>Type: Terraced Duplex</td>\n",
       "      <td>Bedrooms: 5</td>\n",
       "      <td>NaN</td>\n",
       "      <td>NaN</td>\n",
       "      <td>NaN</td>\n",
       "    </tr>\n",
       "    <tr>\n",
       "      <th>6862</th>\n",
       "      <td>300000000</td>\n",
       "      <td>Guzape District, Abuja</td>\n",
       "      <td>1416671</td>\n",
       "      <td>10 Aug 2022</td>\n",
       "      <td>04 Apr 2024</td>\n",
       "      <td>Available</td>\n",
       "      <td>Type: Semi-detached Duplex</td>\n",
       "      <td>Bedrooms: 6</td>\n",
       "      <td>Bathrooms: 6</td>\n",
       "      <td>Toilets: 7</td>\n",
       "      <td>Parking Spaces: 5</td>\n",
       "    </tr>\n",
       "    <tr>\n",
       "      <th>6863</th>\n",
       "      <td>95000000</td>\n",
       "      <td>Dakibiyu, Abuja</td>\n",
       "      <td>1358938</td>\n",
       "      <td>18 Jun 2022</td>\n",
       "      <td>22 Feb 2024</td>\n",
       "      <td>Available</td>\n",
       "      <td>Type: Semi-detached Duplex</td>\n",
       "      <td>Bedrooms: 4</td>\n",
       "      <td>Bathrooms: 4</td>\n",
       "      <td>Toilets: 5</td>\n",
       "      <td>NaN</td>\n",
       "    </tr>\n",
       "    <tr>\n",
       "      <th>6864</th>\n",
       "      <td>420000000</td>\n",
       "      <td>Katampe Extension, Katampe, Abuja</td>\n",
       "      <td>1413836</td>\n",
       "      <td>08 Aug 2022</td>\n",
       "      <td>17 May 2024</td>\n",
       "      <td>Available</td>\n",
       "      <td>Type: Detached Duplex</td>\n",
       "      <td>Bedrooms: 6</td>\n",
       "      <td>Bathrooms: 6</td>\n",
       "      <td>Toilets: 7</td>\n",
       "      <td>Parking Spaces: 7</td>\n",
       "    </tr>\n",
       "    <tr>\n",
       "      <th>6865</th>\n",
       "      <td>90000000</td>\n",
       "      <td>By Turkish Hospital, Idu Industrial, Abuja</td>\n",
       "      <td>1407515</td>\n",
       "      <td>03 Aug 2022</td>\n",
       "      <td>18 Mar 2024</td>\n",
       "      <td>Available</td>\n",
       "      <td>Type: Detached Duplex</td>\n",
       "      <td>Bedrooms: 5</td>\n",
       "      <td>Bathrooms: 5</td>\n",
       "      <td>Toilets: 6</td>\n",
       "      <td>Parking Spaces: 5</td>\n",
       "    </tr>\n",
       "  </tbody>\n",
       "</table>\n",
       "<p>6866 rows × 11 columns</p>\n",
       "</div>"
      ],
      "text/plain": [
       "          price                                            address  \\\n",
       "0      63246500  After Mountain Of Fire Estate, Before Shalom E...   \n",
       "1      65000000    By American International School, Durumi, Abuja   \n",
       "2     480000000                                        Wuye, Abuja   \n",
       "3     140000000  Karsana Gwarimpa Extension In An Estate, Gwari...   \n",
       "4      63500000                              Lugbe District, Abuja   \n",
       "...         ...                                                ...   \n",
       "6861  400000000                             Guzape District, Abuja   \n",
       "6862  300000000                             Guzape District, Abuja   \n",
       "6863   95000000                                    Dakibiyu, Abuja   \n",
       "6864  420000000                  Katampe Extension, Katampe, Abuja   \n",
       "6865   90000000         By Turkish Hospital, Idu Industrial, Abuja   \n",
       "\n",
       "     property ref    lsited on last updated market status  \\\n",
       "0         2260849  17 May 2024  17 May 2024     Available   \n",
       "1         2260848  17 May 2024  17 May 2024     Available   \n",
       "2         2260802  17 May 2024  17 May 2024     Available   \n",
       "3         2260786  17 May 2024  17 May 2024     Available   \n",
       "4         2260743  17 May 2024  17 May 2024     Available   \n",
       "...           ...          ...          ...           ...   \n",
       "6861      1420010  13 Aug 2022  09 May 2024     Available   \n",
       "6862      1416671  10 Aug 2022  04 Apr 2024     Available   \n",
       "6863      1358938  18 Jun 2022  22 Feb 2024     Available   \n",
       "6864      1413836  08 Aug 2022  17 May 2024     Available   \n",
       "6865      1407515  03 Aug 2022  18 Mar 2024     Available   \n",
       "\n",
       "                            type     bedrooms     bathrooms     toilets  \\\n",
       "0          Type: Detached Duplex  Bedrooms: 5           NaN         NaN   \n",
       "1           Type: Block of Flats  Bedrooms: 2  Bathrooms: 2  Toilets: 3   \n",
       "2          Type: Detached Duplex  Bedrooms: 5          None  Toilets: 6   \n",
       "3          Type: Detached Duplex  Bedrooms: 4  Bathrooms: 4  Toilets: 5   \n",
       "4                    Type: House  Bedrooms: 5  Bathrooms: 6  Toilets: 6   \n",
       "...                          ...          ...           ...         ...   \n",
       "6861       Type: Terraced Duplex  Bedrooms: 5           NaN         NaN   \n",
       "6862  Type: Semi-detached Duplex  Bedrooms: 6  Bathrooms: 6  Toilets: 7   \n",
       "6863  Type: Semi-detached Duplex  Bedrooms: 4  Bathrooms: 4  Toilets: 5   \n",
       "6864       Type: Detached Duplex  Bedrooms: 6  Bathrooms: 6  Toilets: 7   \n",
       "6865       Type: Detached Duplex  Bedrooms: 5  Bathrooms: 5  Toilets: 6   \n",
       "\n",
       "         parking spaces  \n",
       "0                   NaN  \n",
       "1     Parking Spaces: 3  \n",
       "2                   NaN  \n",
       "3     Parking Spaces: 3  \n",
       "4                   NaN  \n",
       "...                 ...  \n",
       "6861                NaN  \n",
       "6862  Parking Spaces: 5  \n",
       "6863                NaN  \n",
       "6864  Parking Spaces: 7  \n",
       "6865  Parking Spaces: 5  \n",
       "\n",
       "[6866 rows x 11 columns]"
      ]
     },
     "execution_count": 52,
     "metadata": {},
     "output_type": "execute_result"
    }
   ],
   "source": [
    "df"
   ]
  },
  {
   "cell_type": "code",
   "execution_count": 53,
   "metadata": {},
   "outputs": [],
   "source": [
    "df['type']=df['type'].str.replace('Type: ',\"\")"
   ]
  },
  {
   "cell_type": "code",
   "execution_count": 54,
   "metadata": {},
   "outputs": [],
   "source": [
    "df['bedrooms']=df['bedrooms'].str.replace('Bedrooms:','')"
   ]
  },
  {
   "cell_type": "code",
   "execution_count": 55,
   "metadata": {},
   "outputs": [],
   "source": [
    "df['bathrooms']=df['bathrooms'].str.replace('Bathrooms:','')"
   ]
  },
  {
   "cell_type": "code",
   "execution_count": 56,
   "metadata": {},
   "outputs": [
    {
     "data": {
      "text/plain": [
       "Index(['price', 'address', 'property ref', 'lsited on', 'last updated',\n",
       "       'market status', 'type', 'bedrooms', 'bathrooms', 'toilets',\n",
       "       'parking spaces'],\n",
       "      dtype='object')"
      ]
     },
     "execution_count": 56,
     "metadata": {},
     "output_type": "execute_result"
    }
   ],
   "source": [
    "df.columns"
   ]
  },
  {
   "cell_type": "code",
   "execution_count": 57,
   "metadata": {},
   "outputs": [],
   "source": [
    "df['toilets']=df['toilets'].str.replace('Toilets:','')"
   ]
  },
  {
   "cell_type": "code",
   "execution_count": 58,
   "metadata": {},
   "outputs": [],
   "source": [
    "df['parking spaces']=df['parking spaces'].str.replace('Parking Spaces:','')"
   ]
  },
  {
   "cell_type": "code",
   "execution_count": 67,
   "metadata": {},
   "outputs": [
    {
     "data": {
      "text/plain": [
       "price\n",
       "250000000      343\n",
       "150000000      304\n",
       "350000000      275\n",
       "200000000      232\n",
       "400000000      192\n",
       "              ... \n",
       "25500000         1\n",
       "20000000000      1\n",
       "107000000        1\n",
       "5000000000       1\n",
       "31000000         1\n",
       "Name: count, Length: 326, dtype: int64"
      ]
     },
     "metadata": {},
     "output_type": "display_data"
    },
    {
     "data": {
      "text/plain": [
       "address\n",
       "Guzape District, Abuja                        571\n",
       "Maitama District, Abuja                       396\n",
       "Life Camp, Abuja                              331\n",
       "Katampe Extension, Katampe, Abuja             305\n",
       "Jahi, Abuja                                   273\n",
       "                                             ... \n",
       "Behind Road Safety, Mabushi, Abuja              1\n",
       "Hall 7 Estate, Karsana, Abuja                   1\n",
       "By Cedar Crest, Apo, Abuja                      1\n",
       "Extension, Kubwa, Abuja                         1\n",
       "By Turkish Hospital, Idu Industrial, Abuja      1\n",
       "Name: count, Length: 1674, dtype: int64"
      ]
     },
     "metadata": {},
     "output_type": "display_data"
    },
    {
     "data": {
      "text/plain": [
       "property ref\n",
       "2198175    21\n",
       "2222041    19\n",
       "2068017    18\n",
       "2008335    17\n",
       "2140814    17\n",
       "           ..\n",
       "2027913     1\n",
       "1980882     1\n",
       "2030039     1\n",
       "2030058     1\n",
       "1407515     1\n",
       "Name: count, Length: 6479, dtype: int64"
      ]
     },
     "metadata": {},
     "output_type": "display_data"
    },
    {
     "data": {
      "text/plain": [
       "lsited on\n",
       "14 May 2024    98\n",
       "13 May 2024    91\n",
       "16 May 2024    90\n",
       "02 May 2024    78\n",
       "24 Apr 2024    75\n",
       "               ..\n",
       "05 Feb 2023     1\n",
       "04 Feb 2023     1\n",
       "27 Jul 2022     1\n",
       "19 Jun 2023     1\n",
       "08 Aug 2022     1\n",
       "Name: count, Length: 635, dtype: int64"
      ]
     },
     "metadata": {},
     "output_type": "display_data"
    },
    {
     "data": {
      "text/plain": [
       "last updated\n",
       "17 May 2024    572\n",
       "15 May 2024    434\n",
       "23 Apr 2024    428\n",
       "16 May 2024    411\n",
       "13 May 2024    353\n",
       "              ... \n",
       "25 Feb 2024     10\n",
       "01 Mar 2024      9\n",
       "05 Mar 2024      7\n",
       "17 Feb 2024      5\n",
       "15 Feb 2024      2\n",
       "Name: count, Length: 92, dtype: int64"
      ]
     },
     "metadata": {},
     "output_type": "display_data"
    },
    {
     "data": {
      "text/plain": [
       "market status\n",
       "Available    6863\n",
       "Sold            3\n",
       "Name: count, dtype: int64"
      ]
     },
     "metadata": {},
     "output_type": "display_data"
    },
    {
     "data": {
      "text/plain": [
       "type\n",
       "Detached Duplex           2824\n",
       "Terraced Duplex           2069\n",
       "Semi-detached Duplex       834\n",
       "Block of Flats             443\n",
       "House                      350\n",
       "Detached Bungalow          276\n",
       "Semi-detached Bungalow      61\n",
       "Terraced Bungalow            9\n",
       "Name: count, dtype: int64"
      ]
     },
     "metadata": {},
     "output_type": "display_data"
    },
    {
     "data": {
      "text/plain": [
       "bedrooms\n",
       "4      2746\n",
       "5      1799\n",
       "3       743\n",
       "6       677\n",
       "7       314\n",
       "2       204\n",
       "8       147\n",
       "9        70\n",
       "1        34\n",
       "12       21\n",
       "10       19\n",
       "11        8\n",
       "16        7\n",
       "20        4\n",
       "50        3\n",
       "14        3\n",
       "26        2\n",
       "18        2\n",
       "32        2\n",
       "13        2\n",
       "40        2\n",
       "17        2\n",
       "64        1\n",
       "21        1\n",
       "42        1\n",
       "65        1\n",
       "24        1\n",
       "23        1\n",
       "37        1\n",
       "44        1\n",
       "25        1\n",
       "60        1\n",
       "33        1\n",
       "39        1\n",
       "38        1\n",
       "54        1\n",
       "28        1\n",
       "287       1\n",
       "48        1\n",
       "46        1\n",
       "15        1\n",
       "36        1\n",
       "56        1\n",
       "Name: count, dtype: int64"
      ]
     },
     "metadata": {},
     "output_type": "display_data"
    },
    {
     "data": {
      "text/plain": [
       "bathrooms\n",
       "4      1811\n",
       "5      1678\n",
       "6       886\n",
       "3       465\n",
       "7       359\n",
       "8       193\n",
       "2       125\n",
       "9        71\n",
       "10       56\n",
       "1        17\n",
       "12       15\n",
       "16        9\n",
       "11        7\n",
       "18        7\n",
       "14        5\n",
       "50        3\n",
       "46        3\n",
       "13        3\n",
       "22        2\n",
       "20        2\n",
       "23        2\n",
       "32        2\n",
       "30        2\n",
       "40        2\n",
       "28        2\n",
       "17        1\n",
       "39        1\n",
       "72        1\n",
       "44        1\n",
       "26        1\n",
       "25        1\n",
       "60        1\n",
       "70        1\n",
       "24        1\n",
       "55        1\n",
       "19        1\n",
       "287       1\n",
       "37        1\n",
       "48        1\n",
       "64        1\n",
       "93        1\n",
       "Name: count, dtype: int64"
      ]
     },
     "metadata": {},
     "output_type": "display_data"
    },
    {
     "data": {
      "text/plain": [
       "toilets\n",
       "5      2349\n",
       "6      1579\n",
       "4       722\n",
       "7       596\n",
       "8       304\n",
       "3       195\n",
       "10      112\n",
       "9        84\n",
       "2        49\n",
       "11       17\n",
       "12       14\n",
       "1        11\n",
       "24        6\n",
       "13        6\n",
       "14        6\n",
       "18        5\n",
       "17        3\n",
       "20        3\n",
       "28        3\n",
       "40        3\n",
       "65        2\n",
       "16        2\n",
       "22        2\n",
       "25        2\n",
       "37        2\n",
       "19        2\n",
       "72        2\n",
       "50        2\n",
       "46        1\n",
       "49        1\n",
       "34        1\n",
       "57        1\n",
       "27        1\n",
       "35        1\n",
       "45        1\n",
       "102       1\n",
       "55        1\n",
       "15        1\n",
       "70        1\n",
       "300       1\n",
       "41        1\n",
       "56        1\n",
       "30        1\n",
       "63        1\n",
       "21        1\n",
       "60        1\n",
       "Name: count, dtype: int64"
      ]
     },
     "metadata": {},
     "output_type": "display_data"
    },
    {
     "data": {
      "text/plain": [
       "parking spaces\n",
       " 4                       831\n",
       " 3                       818\n",
       " 5                       635\n",
       " 6                       400\n",
       " 10                      349\n",
       " 8                       252\n",
       " 2                       250\n",
       " 7                       130\n",
       " 15                      115\n",
       " 12                       59\n",
       " 20                       57\n",
       " 9                        34\n",
       " 50                       16\n",
       " 25                       12\n",
       " 1                        11\n",
       " 14                        9\n",
       " 30                        9\n",
       " 16                        6\n",
       " 200                       4\n",
       " 24                        4\n",
       " 13                        4\n",
       " 18                        4\n",
       " 11                        3\n",
       " 100                       3\n",
       " 700                       2\n",
       " 40                        2\n",
       " 58                        2\n",
       " 28                        1\n",
       " 500                       1\n",
       "Total Area: 3,000 sqm      1\n",
       " 60                        1\n",
       " 23                        1\n",
       " 600                       1\n",
       " 10000                     1\n",
       " 55                        1\n",
       " 400                       1\n",
       " 1000                      1\n",
       " 3000                      1\n",
       " 36                        1\n",
       " 800                       1\n",
       " 1200                      1\n",
       " 35                        1\n",
       "Name: count, dtype: int64"
      ]
     },
     "metadata": {},
     "output_type": "display_data"
    }
   ],
   "source": [
    "for items in df.columns[:12]:\n",
    "    display(df[items].value_counts())"
   ]
  },
  {
   "cell_type": "code",
   "execution_count": 60,
   "metadata": {},
   "outputs": [
    {
     "name": "stdout",
     "output_type": "stream",
     "text": [
      "<class 'pandas.core.frame.DataFrame'>\n",
      "RangeIndex: 6866 entries, 0 to 6865\n",
      "Data columns (total 11 columns):\n",
      " #   Column          Non-Null Count  Dtype \n",
      "---  ------          --------------  ----- \n",
      " 0   price           6866 non-null   object\n",
      " 1   address         6866 non-null   object\n",
      " 2   property ref    6866 non-null   object\n",
      " 3   lsited on       6866 non-null   object\n",
      " 4   last updated    6866 non-null   object\n",
      " 5   market status   6866 non-null   object\n",
      " 6   type            6866 non-null   object\n",
      " 7   bedrooms        6832 non-null   object\n",
      " 8   bathrooms       5743 non-null   object\n",
      " 9   toilets         6101 non-null   object\n",
      " 10  parking spaces  4036 non-null   object\n",
      "dtypes: object(11)\n",
      "memory usage: 590.2+ KB\n"
     ]
    }
   ],
   "source": [
    "df.info()"
   ]
  },
  {
   "cell_type": "code",
   "execution_count": 61,
   "metadata": {},
   "outputs": [
    {
     "data": {
      "text/plain": [
       "price                0\n",
       "address              0\n",
       "property ref         0\n",
       "lsited on            0\n",
       "last updated         0\n",
       "market status        0\n",
       "type                 0\n",
       "bedrooms            34\n",
       "bathrooms         1123\n",
       "toilets            765\n",
       "parking spaces    2830\n",
       "dtype: int64"
      ]
     },
     "execution_count": 61,
     "metadata": {},
     "output_type": "execute_result"
    }
   ],
   "source": [
    "df.isna().sum()"
   ]
  },
  {
   "cell_type": "code",
   "execution_count": 62,
   "metadata": {},
   "outputs": [],
   "source": [
    "df_sub=df.dropna()"
   ]
  },
  {
   "cell_type": "code",
   "execution_count": 66,
   "metadata": {},
   "outputs": [],
   "source": [
    "df['price'] = df['price'].astype('int64')\n",
    "\n",
    "#df['bedrooms']=df['bedrooms'].astype(int)\n",
    "#df['bathrooms']=df['bathrooms'].astype(int)\n",
    "#df['toilets']=df['toilets'].astype(int)"
   ]
  },
  {
   "cell_type": "code",
   "execution_count": null,
   "metadata": {},
   "outputs": [],
   "source": [
    "df_numeric=df[['price','bedrooms', 'bathrooms', 'toilets',\n",
    "       'parking spaces']]"
   ]
  },
  {
   "cell_type": "code",
   "execution_count": null,
   "metadata": {},
   "outputs": [
    {
     "data": {
      "text/html": [
       "<div>\n",
       "<style scoped>\n",
       "    .dataframe tbody tr th:only-of-type {\n",
       "        vertical-align: middle;\n",
       "    }\n",
       "\n",
       "    .dataframe tbody tr th {\n",
       "        vertical-align: top;\n",
       "    }\n",
       "\n",
       "    .dataframe thead th {\n",
       "        text-align: right;\n",
       "    }\n",
       "</style>\n",
       "<table border=\"1\" class=\"dataframe\">\n",
       "  <thead>\n",
       "    <tr style=\"text-align: right;\">\n",
       "      <th></th>\n",
       "      <th>price</th>\n",
       "      <th>bedrooms</th>\n",
       "      <th>bathrooms</th>\n",
       "      <th>toilets</th>\n",
       "      <th>parking spaces</th>\n",
       "    </tr>\n",
       "  </thead>\n",
       "  <tbody>\n",
       "    <tr>\n",
       "      <th>count</th>\n",
       "      <td>6866</td>\n",
       "      <td>6832</td>\n",
       "      <td>5743</td>\n",
       "      <td>6101</td>\n",
       "      <td>4036</td>\n",
       "    </tr>\n",
       "    <tr>\n",
       "      <th>unique</th>\n",
       "      <td>326</td>\n",
       "      <td>43</td>\n",
       "      <td>41</td>\n",
       "      <td>46</td>\n",
       "      <td>42</td>\n",
       "    </tr>\n",
       "    <tr>\n",
       "      <th>top</th>\n",
       "      <td>250000000</td>\n",
       "      <td>4</td>\n",
       "      <td>4</td>\n",
       "      <td>5</td>\n",
       "      <td>4</td>\n",
       "    </tr>\n",
       "    <tr>\n",
       "      <th>freq</th>\n",
       "      <td>343</td>\n",
       "      <td>2746</td>\n",
       "      <td>1811</td>\n",
       "      <td>2349</td>\n",
       "      <td>831</td>\n",
       "    </tr>\n",
       "  </tbody>\n",
       "</table>\n",
       "</div>"
      ],
      "text/plain": [
       "            price bedrooms bathrooms toilets parking spaces\n",
       "count        6866     6832      5743    6101           4036\n",
       "unique        326       43        41      46             42\n",
       "top     250000000        4         4       5              4\n",
       "freq          343     2746      1811    2349            831"
      ]
     },
     "execution_count": 202,
     "metadata": {},
     "output_type": "execute_result"
    }
   ],
   "source": [
    "df_numeric.describe()"
   ]
  },
  {
   "cell_type": "code",
   "execution_count": null,
   "metadata": {},
   "outputs": [],
   "source": [
    "df_numeric1 = df_numeric.dropna(axis=0)"
   ]
  },
  {
   "cell_type": "code",
   "execution_count": null,
   "metadata": {},
   "outputs": [
    {
     "data": {
      "text/plain": [
       "price             0\n",
       "bedrooms          0\n",
       "bathrooms         0\n",
       "toilets           0\n",
       "parking spaces    0\n",
       "dtype: int64"
      ]
     },
     "execution_count": 227,
     "metadata": {},
     "output_type": "execute_result"
    }
   ],
   "source": [
    "df_numeric1.isna().sum()"
   ]
  },
  {
   "cell_type": "code",
   "execution_count": null,
   "metadata": {},
   "outputs": [
    {
     "name": "stderr",
     "output_type": "stream",
     "text": [
      "C:\\Users\\ishar\\AppData\\Local\\Temp\\ipykernel_15952\\1642751882.py:1: SettingWithCopyWarning: \n",
      "A value is trying to be set on a copy of a slice from a DataFrame.\n",
      "Try using .loc[row_indexer,col_indexer] = value instead\n",
      "\n",
      "See the caveats in the documentation: https://pandas.pydata.org/pandas-docs/stable/user_guide/indexing.html#returning-a-view-versus-a-copy\n",
      "  df_numeric1['price'] = df_numeric1['price'].astype('int64')\n",
      "C:\\Users\\ishar\\AppData\\Local\\Temp\\ipykernel_15952\\1642751882.py:3: SettingWithCopyWarning: \n",
      "A value is trying to be set on a copy of a slice from a DataFrame.\n",
      "Try using .loc[row_indexer,col_indexer] = value instead\n",
      "\n",
      "See the caveats in the documentation: https://pandas.pydata.org/pandas-docs/stable/user_guide/indexing.html#returning-a-view-versus-a-copy\n",
      "  df_numeric1['bedrooms']=df_numeric1['bedrooms'].astype(int)\n",
      "C:\\Users\\ishar\\AppData\\Local\\Temp\\ipykernel_15952\\1642751882.py:4: SettingWithCopyWarning: \n",
      "A value is trying to be set on a copy of a slice from a DataFrame.\n",
      "Try using .loc[row_indexer,col_indexer] = value instead\n",
      "\n",
      "See the caveats in the documentation: https://pandas.pydata.org/pandas-docs/stable/user_guide/indexing.html#returning-a-view-versus-a-copy\n",
      "  df_numeric1['bathrooms']=df_numeric1['bathrooms'].astype(int)\n",
      "C:\\Users\\ishar\\AppData\\Local\\Temp\\ipykernel_15952\\1642751882.py:5: SettingWithCopyWarning: \n",
      "A value is trying to be set on a copy of a slice from a DataFrame.\n",
      "Try using .loc[row_indexer,col_indexer] = value instead\n",
      "\n",
      "See the caveats in the documentation: https://pandas.pydata.org/pandas-docs/stable/user_guide/indexing.html#returning-a-view-versus-a-copy\n",
      "  df_numeric1['toilets']=df_numeric1['toilets'].astype(int)\n"
     ]
    }
   ],
   "source": []
  },
  {
   "cell_type": "code",
   "execution_count": null,
   "metadata": {},
   "outputs": [
    {
     "name": "stdout",
     "output_type": "stream",
     "text": [
      "<class 'pandas.core.frame.DataFrame'>\n",
      "Index: 3993 entries, 1 to 6865\n",
      "Data columns (total 5 columns):\n",
      " #   Column          Non-Null Count  Dtype \n",
      "---  ------          --------------  ----- \n",
      " 0   price           3993 non-null   int64 \n",
      " 1   bedrooms        3993 non-null   int32 \n",
      " 2   bathrooms       3993 non-null   int32 \n",
      " 3   toilets         3993 non-null   int32 \n",
      " 4   parking spaces  3993 non-null   object\n",
      "dtypes: int32(3), int64(1), object(1)\n",
      "memory usage: 140.4+ KB\n"
     ]
    }
   ],
   "source": [
    "df_numeric1.info()"
   ]
  },
  {
   "cell_type": "code",
   "execution_count": null,
   "metadata": {},
   "outputs": [
    {
     "name": "stdout",
     "output_type": "stream",
     "text": [
      "<class 'pandas.core.frame.DataFrame'>\n",
      "Index: 3993 entries, 1 to 6865\n",
      "Data columns (total 5 columns):\n",
      " #   Column          Non-Null Count  Dtype \n",
      "---  ------          --------------  ----- \n",
      " 0   price           3993 non-null   object\n",
      " 1   bedrooms        3993 non-null   object\n",
      " 2   bathrooms       3993 non-null   object\n",
      " 3   toilets         3993 non-null   object\n",
      " 4   parking spaces  3993 non-null   object\n",
      "dtypes: object(5)\n",
      "memory usage: 187.2+ KB\n"
     ]
    }
   ],
   "source": [
    "df_numeric1"
   ]
  },
  {
   "cell_type": "code",
   "execution_count": null,
   "metadata": {},
   "outputs": [],
   "source": [
    "for data in df_numeric1.columns:\n",
    "    df_numeric[data].astype('int64'"
   ]
  },
  {
   "cell_type": "code",
   "execution_count": null,
   "metadata": {},
   "outputs": [],
   "source": [
    "def conver_data(df):\n",
    "    for columns in df.columns:\n",
    "        print(columns)\n"
   ]
  },
  {
   "cell_type": "code",
   "execution_count": null,
   "metadata": {},
   "outputs": [
    {
     "data": {
      "text/plain": [
       "3500000000000"
      ]
     },
     "execution_count": 247,
     "metadata": {},
     "output_type": "execute_result"
    }
   ],
   "source": [
    "df_numeric1['price'].max()"
   ]
  },
  {
   "cell_type": "code",
   "execution_count": null,
   "metadata": {},
   "outputs": [
    {
     "data": {
      "text/html": [
       "<div>\n",
       "<style scoped>\n",
       "    .dataframe tbody tr th:only-of-type {\n",
       "        vertical-align: middle;\n",
       "    }\n",
       "\n",
       "    .dataframe tbody tr th {\n",
       "        vertical-align: top;\n",
       "    }\n",
       "\n",
       "    .dataframe thead th {\n",
       "        text-align: right;\n",
       "    }\n",
       "</style>\n",
       "<table border=\"1\" class=\"dataframe\">\n",
       "  <thead>\n",
       "    <tr style=\"text-align: right;\">\n",
       "      <th></th>\n",
       "      <th>price</th>\n",
       "      <th>bedrooms</th>\n",
       "      <th>bathrooms</th>\n",
       "      <th>toilets</th>\n",
       "      <th>parking spaces</th>\n",
       "    </tr>\n",
       "  </thead>\n",
       "  <tbody>\n",
       "    <tr>\n",
       "      <th>2583</th>\n",
       "      <td>3500000000000</td>\n",
       "      <td>4</td>\n",
       "      <td>70</td>\n",
       "      <td>70</td>\n",
       "      <td>200</td>\n",
       "    </tr>\n",
       "  </tbody>\n",
       "</table>\n",
       "</div>"
      ],
      "text/plain": [
       "              price  bedrooms  bathrooms  toilets parking spaces\n",
       "2583  3500000000000         4         70       70            200"
      ]
     },
     "execution_count": 250,
     "metadata": {},
     "output_type": "execute_result"
    }
   ],
   "source": [
    "df_numeric1[df_numeric1['price']==3500000000000]"
   ]
  },
  {
   "cell_type": "code",
   "execution_count": null,
   "metadata": {},
   "outputs": [
    {
     "data": {
      "text/html": [
       "<div>\n",
       "<style scoped>\n",
       "    .dataframe tbody tr th:only-of-type {\n",
       "        vertical-align: middle;\n",
       "    }\n",
       "\n",
       "    .dataframe tbody tr th {\n",
       "        vertical-align: top;\n",
       "    }\n",
       "\n",
       "    .dataframe thead th {\n",
       "        text-align: right;\n",
       "    }\n",
       "</style>\n",
       "<table border=\"1\" class=\"dataframe\">\n",
       "  <thead>\n",
       "    <tr style=\"text-align: right;\">\n",
       "      <th></th>\n",
       "      <th>price</th>\n",
       "      <th>bedrooms</th>\n",
       "      <th>bathrooms</th>\n",
       "      <th>toilets</th>\n",
       "    </tr>\n",
       "  </thead>\n",
       "  <tbody>\n",
       "    <tr>\n",
       "      <th>count</th>\n",
       "      <td>3.993000e+03</td>\n",
       "      <td>3993.0</td>\n",
       "      <td>3993.0</td>\n",
       "      <td>3993.0</td>\n",
       "    </tr>\n",
       "    <tr>\n",
       "      <th>mean</th>\n",
       "      <td>1.815138e+09</td>\n",
       "      <td>5.0</td>\n",
       "      <td>5.0</td>\n",
       "      <td>6.0</td>\n",
       "    </tr>\n",
       "    <tr>\n",
       "      <th>std</th>\n",
       "      <td>5.982258e+10</td>\n",
       "      <td>5.0</td>\n",
       "      <td>5.0</td>\n",
       "      <td>6.0</td>\n",
       "    </tr>\n",
       "    <tr>\n",
       "      <th>min</th>\n",
       "      <td>5.000000e+05</td>\n",
       "      <td>1.0</td>\n",
       "      <td>1.0</td>\n",
       "      <td>1.0</td>\n",
       "    </tr>\n",
       "    <tr>\n",
       "      <th>25%</th>\n",
       "      <td>1.200000e+08</td>\n",
       "      <td>4.0</td>\n",
       "      <td>4.0</td>\n",
       "      <td>5.0</td>\n",
       "    </tr>\n",
       "    <tr>\n",
       "      <th>50%</th>\n",
       "      <td>2.300000e+08</td>\n",
       "      <td>4.0</td>\n",
       "      <td>5.0</td>\n",
       "      <td>5.0</td>\n",
       "    </tr>\n",
       "    <tr>\n",
       "      <th>75%</th>\n",
       "      <td>4.500000e+08</td>\n",
       "      <td>5.0</td>\n",
       "      <td>6.0</td>\n",
       "      <td>6.0</td>\n",
       "    </tr>\n",
       "    <tr>\n",
       "      <th>max</th>\n",
       "      <td>3.500000e+12</td>\n",
       "      <td>287.0</td>\n",
       "      <td>287.0</td>\n",
       "      <td>300.0</td>\n",
       "    </tr>\n",
       "  </tbody>\n",
       "</table>\n",
       "</div>"
      ],
      "text/plain": [
       "              price  bedrooms  bathrooms  toilets\n",
       "count  3.993000e+03    3993.0     3993.0   3993.0\n",
       "mean   1.815138e+09       5.0        5.0      6.0\n",
       "std    5.982258e+10       5.0        5.0      6.0\n",
       "min    5.000000e+05       1.0        1.0      1.0\n",
       "25%    1.200000e+08       4.0        4.0      5.0\n",
       "50%    2.300000e+08       4.0        5.0      5.0\n",
       "75%    4.500000e+08       5.0        6.0      6.0\n",
       "max    3.500000e+12     287.0      287.0    300.0"
      ]
     },
     "execution_count": 245,
     "metadata": {},
     "output_type": "execute_result"
    }
   ],
   "source": [
    "df_numeric1.describe().round()"
   ]
  },
  {
   "cell_type": "code",
   "execution_count": null,
   "metadata": {},
   "outputs": [],
   "source": []
  }
 ],
 "metadata": {
  "kernelspec": {
   "display_name": "Python 3",
   "language": "python",
   "name": "python3"
  },
  "language_info": {
   "codemirror_mode": {
    "name": "ipython",
    "version": 3
   },
   "file_extension": ".py",
   "mimetype": "text/x-python",
   "name": "python",
   "nbconvert_exporter": "python",
   "pygments_lexer": "ipython3",
   "version": "3.12.3"
  }
 },
 "nbformat": 4,
 "nbformat_minor": 2
}
